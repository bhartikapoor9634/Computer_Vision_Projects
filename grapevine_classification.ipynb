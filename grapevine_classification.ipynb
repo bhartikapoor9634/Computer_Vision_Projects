{
  "cells": [
    {
      "cell_type": "markdown",
      "metadata": {
        "id": "view-in-github",
        "colab_type": "text"
      },
      "source": [
        "<a href=\"https://colab.research.google.com/github/bhartikapoor9634/Computer_Vision_Projects/blob/main/grapevine_classification.ipynb\" target=\"_parent\"><img src=\"https://colab.research.google.com/assets/colab-badge.svg\" alt=\"Open In Colab\"/></a>"
      ]
    },
    {
      "cell_type": "markdown",
      "id": "4a2085e5",
      "metadata": {
        "papermill": {
          "duration": 0.008236,
          "end_time": "2022-06-02T18:15:35.655852",
          "exception": false,
          "start_time": "2022-06-02T18:15:35.647616",
          "status": "completed"
        },
        "tags": [],
        "id": "4a2085e5"
      },
      "source": [
        "# IMPORT LIBRARIES"
      ]
    },
    {
      "cell_type": "code",
      "execution_count": null,
      "id": "39db62b2",
      "metadata": {
        "execution": {
          "iopub.execute_input": "2022-06-02T18:15:35.672854Z",
          "iopub.status.busy": "2022-06-02T18:15:35.671933Z",
          "iopub.status.idle": "2022-06-02T18:15:43.257455Z",
          "shell.execute_reply": "2022-06-02T18:15:43.256386Z"
        },
        "papermill": {
          "duration": 7.597114,
          "end_time": "2022-06-02T18:15:43.260077",
          "exception": false,
          "start_time": "2022-06-02T18:15:35.662963",
          "status": "completed"
        },
        "tags": [],
        "id": "39db62b2"
      },
      "outputs": [],
      "source": [
        "import os\n",
        "import numpy as np \n",
        "import pandas as pd\n",
        "\n",
        "from keras_preprocessing.image import ImageDataGenerator\n",
        "from keras.layers import Dense, Activation, Flatten, Dropout, BatchNormalization\n",
        "from keras.layers import Conv2D, MaxPooling2D, GlobalAveragePooling2D\n",
        "from keras.models import Sequential, Model\n",
        "from keras.applications.imagenet_utils import preprocess_input\n",
        "\n",
        "from keras.applications.vgg19 import VGG19\n",
        "from tensorflow.keras.applications import ResNet50\n",
        "from keras.applications.inception_v3 import InceptionV3\n",
        "\n",
        "from keras import regularizers, optimizers\n",
        "from sklearn.model_selection import train_test_split\n",
        "\n",
        "import cv2"
      ]
    },
    {
      "cell_type": "code",
      "source": [
        "os.environ['KAGGLE_CONFIG_DIR']=\"/content/\"\n",
        "\n",
        "!kaggle datasets download muratkokludataset/grapevine-leaves-image-dataset\n",
        "\n"
      ],
      "metadata": {
        "colab": {
          "base_uri": "https://localhost:8080/"
        },
        "id": "GzFldINwimCk",
        "outputId": "1f3bb77b-bb6d-4019-e8fc-224d2cddda32"
      },
      "id": "GzFldINwimCk",
      "execution_count": null,
      "outputs": [
        {
          "output_type": "stream",
          "name": "stdout",
          "text": [
            "Warning: Your Kaggle API key is readable by other users on this system! To fix this, you can run 'chmod 600 /content/kaggle.json'\n",
            "Downloading grapevine-leaves-image-dataset.zip to /content\n",
            " 91% 99.0M/109M [00:01<00:00, 110MB/s] \n",
            "100% 109M/109M [00:01<00:00, 88.4MB/s]\n"
          ]
        }
      ]
    },
    {
      "cell_type": "code",
      "source": [
        "import zipfile\n",
        "! unzip \"grapevine-leaves-image-dataset.zip\" "
      ],
      "metadata": {
        "colab": {
          "base_uri": "https://localhost:8080/"
        },
        "id": "qdZxU4o8jG-C",
        "outputId": "58f2822d-891f-432a-eb28-e70f45943151"
      },
      "id": "qdZxU4o8jG-C",
      "execution_count": null,
      "outputs": [
        {
          "output_type": "stream",
          "name": "stdout",
          "text": [
            "Archive:  grapevine-leaves-image-dataset.zip\n",
            "  inflating: Grapevine_Leaves_Image_Dataset/Ak/Ak (1).png  \n",
            "  inflating: Grapevine_Leaves_Image_Dataset/Ak/Ak (10).png  \n",
            "  inflating: Grapevine_Leaves_Image_Dataset/Ak/Ak (100).png  \n",
            "  inflating: Grapevine_Leaves_Image_Dataset/Ak/Ak (11).png  \n",
            "  inflating: Grapevine_Leaves_Image_Dataset/Ak/Ak (12).png  \n",
            "  inflating: Grapevine_Leaves_Image_Dataset/Ak/Ak (13).png  \n",
            "  inflating: Grapevine_Leaves_Image_Dataset/Ak/Ak (14).png  \n",
            "  inflating: Grapevine_Leaves_Image_Dataset/Ak/Ak (15).png  \n",
            "  inflating: Grapevine_Leaves_Image_Dataset/Ak/Ak (16).png  \n",
            "  inflating: Grapevine_Leaves_Image_Dataset/Ak/Ak (17).png  \n",
            "  inflating: Grapevine_Leaves_Image_Dataset/Ak/Ak (18).png  \n",
            "  inflating: Grapevine_Leaves_Image_Dataset/Ak/Ak (19).png  \n",
            "  inflating: Grapevine_Leaves_Image_Dataset/Ak/Ak (2).png  \n",
            "  inflating: Grapevine_Leaves_Image_Dataset/Ak/Ak (20).png  \n",
            "  inflating: Grapevine_Leaves_Image_Dataset/Ak/Ak (21).png  \n",
            "  inflating: Grapevine_Leaves_Image_Dataset/Ak/Ak (22).png  \n",
            "  inflating: Grapevine_Leaves_Image_Dataset/Ak/Ak (23).png  \n",
            "  inflating: Grapevine_Leaves_Image_Dataset/Ak/Ak (24).png  \n",
            "  inflating: Grapevine_Leaves_Image_Dataset/Ak/Ak (25).png  \n",
            "  inflating: Grapevine_Leaves_Image_Dataset/Ak/Ak (26).png  \n",
            "  inflating: Grapevine_Leaves_Image_Dataset/Ak/Ak (27).png  \n",
            "  inflating: Grapevine_Leaves_Image_Dataset/Ak/Ak (28).png  \n",
            "  inflating: Grapevine_Leaves_Image_Dataset/Ak/Ak (29).png  \n",
            "  inflating: Grapevine_Leaves_Image_Dataset/Ak/Ak (3).png  \n",
            "  inflating: Grapevine_Leaves_Image_Dataset/Ak/Ak (30).png  \n",
            "  inflating: Grapevine_Leaves_Image_Dataset/Ak/Ak (31).png  \n",
            "  inflating: Grapevine_Leaves_Image_Dataset/Ak/Ak (32).png  \n",
            "  inflating: Grapevine_Leaves_Image_Dataset/Ak/Ak (33).png  \n",
            "  inflating: Grapevine_Leaves_Image_Dataset/Ak/Ak (34).png  \n",
            "  inflating: Grapevine_Leaves_Image_Dataset/Ak/Ak (35).png  \n",
            "  inflating: Grapevine_Leaves_Image_Dataset/Ak/Ak (36).png  \n",
            "  inflating: Grapevine_Leaves_Image_Dataset/Ak/Ak (37).png  \n",
            "  inflating: Grapevine_Leaves_Image_Dataset/Ak/Ak (38).png  \n",
            "  inflating: Grapevine_Leaves_Image_Dataset/Ak/Ak (39).png  \n",
            "  inflating: Grapevine_Leaves_Image_Dataset/Ak/Ak (4).png  \n",
            "  inflating: Grapevine_Leaves_Image_Dataset/Ak/Ak (40).png  \n",
            "  inflating: Grapevine_Leaves_Image_Dataset/Ak/Ak (41).png  \n",
            "  inflating: Grapevine_Leaves_Image_Dataset/Ak/Ak (42).png  \n",
            "  inflating: Grapevine_Leaves_Image_Dataset/Ak/Ak (43).png  \n",
            "  inflating: Grapevine_Leaves_Image_Dataset/Ak/Ak (44).png  \n",
            "  inflating: Grapevine_Leaves_Image_Dataset/Ak/Ak (45).png  \n",
            "  inflating: Grapevine_Leaves_Image_Dataset/Ak/Ak (46).png  \n",
            "  inflating: Grapevine_Leaves_Image_Dataset/Ak/Ak (47).png  \n",
            "  inflating: Grapevine_Leaves_Image_Dataset/Ak/Ak (48).png  \n",
            "  inflating: Grapevine_Leaves_Image_Dataset/Ak/Ak (49).png  \n",
            "  inflating: Grapevine_Leaves_Image_Dataset/Ak/Ak (5).png  \n",
            "  inflating: Grapevine_Leaves_Image_Dataset/Ak/Ak (50).png  \n",
            "  inflating: Grapevine_Leaves_Image_Dataset/Ak/Ak (51).png  \n",
            "  inflating: Grapevine_Leaves_Image_Dataset/Ak/Ak (52).png  \n",
            "  inflating: Grapevine_Leaves_Image_Dataset/Ak/Ak (53).png  \n",
            "  inflating: Grapevine_Leaves_Image_Dataset/Ak/Ak (54).png  \n",
            "  inflating: Grapevine_Leaves_Image_Dataset/Ak/Ak (55).png  \n",
            "  inflating: Grapevine_Leaves_Image_Dataset/Ak/Ak (56).png  \n",
            "  inflating: Grapevine_Leaves_Image_Dataset/Ak/Ak (57).png  \n",
            "  inflating: Grapevine_Leaves_Image_Dataset/Ak/Ak (58).png  \n",
            "  inflating: Grapevine_Leaves_Image_Dataset/Ak/Ak (59).png  \n",
            "  inflating: Grapevine_Leaves_Image_Dataset/Ak/Ak (6).png  \n",
            "  inflating: Grapevine_Leaves_Image_Dataset/Ak/Ak (60).png  \n",
            "  inflating: Grapevine_Leaves_Image_Dataset/Ak/Ak (61).png  \n",
            "  inflating: Grapevine_Leaves_Image_Dataset/Ak/Ak (62).png  \n",
            "  inflating: Grapevine_Leaves_Image_Dataset/Ak/Ak (63).png  \n",
            "  inflating: Grapevine_Leaves_Image_Dataset/Ak/Ak (64).png  \n",
            "  inflating: Grapevine_Leaves_Image_Dataset/Ak/Ak (65).png  \n",
            "  inflating: Grapevine_Leaves_Image_Dataset/Ak/Ak (66).png  \n",
            "  inflating: Grapevine_Leaves_Image_Dataset/Ak/Ak (67).png  \n",
            "  inflating: Grapevine_Leaves_Image_Dataset/Ak/Ak (68).png  \n",
            "  inflating: Grapevine_Leaves_Image_Dataset/Ak/Ak (69).png  \n",
            "  inflating: Grapevine_Leaves_Image_Dataset/Ak/Ak (7).png  \n",
            "  inflating: Grapevine_Leaves_Image_Dataset/Ak/Ak (70).png  \n",
            "  inflating: Grapevine_Leaves_Image_Dataset/Ak/Ak (71).png  \n",
            "  inflating: Grapevine_Leaves_Image_Dataset/Ak/Ak (72).png  \n",
            "  inflating: Grapevine_Leaves_Image_Dataset/Ak/Ak (73).png  \n",
            "  inflating: Grapevine_Leaves_Image_Dataset/Ak/Ak (74).png  \n",
            "  inflating: Grapevine_Leaves_Image_Dataset/Ak/Ak (75).png  \n",
            "  inflating: Grapevine_Leaves_Image_Dataset/Ak/Ak (76).png  \n",
            "  inflating: Grapevine_Leaves_Image_Dataset/Ak/Ak (77).png  \n",
            "  inflating: Grapevine_Leaves_Image_Dataset/Ak/Ak (78).png  \n",
            "  inflating: Grapevine_Leaves_Image_Dataset/Ak/Ak (79).png  \n",
            "  inflating: Grapevine_Leaves_Image_Dataset/Ak/Ak (8).png  \n",
            "  inflating: Grapevine_Leaves_Image_Dataset/Ak/Ak (80).png  \n",
            "  inflating: Grapevine_Leaves_Image_Dataset/Ak/Ak (81).png  \n",
            "  inflating: Grapevine_Leaves_Image_Dataset/Ak/Ak (82).png  \n",
            "  inflating: Grapevine_Leaves_Image_Dataset/Ak/Ak (83).png  \n",
            "  inflating: Grapevine_Leaves_Image_Dataset/Ak/Ak (84).png  \n",
            "  inflating: Grapevine_Leaves_Image_Dataset/Ak/Ak (85).png  \n",
            "  inflating: Grapevine_Leaves_Image_Dataset/Ak/Ak (86).png  \n",
            "  inflating: Grapevine_Leaves_Image_Dataset/Ak/Ak (87).png  \n",
            "  inflating: Grapevine_Leaves_Image_Dataset/Ak/Ak (88).png  \n",
            "  inflating: Grapevine_Leaves_Image_Dataset/Ak/Ak (89).png  \n",
            "  inflating: Grapevine_Leaves_Image_Dataset/Ak/Ak (9).png  \n",
            "  inflating: Grapevine_Leaves_Image_Dataset/Ak/Ak (90).png  \n",
            "  inflating: Grapevine_Leaves_Image_Dataset/Ak/Ak (91).png  \n",
            "  inflating: Grapevine_Leaves_Image_Dataset/Ak/Ak (92).png  \n",
            "  inflating: Grapevine_Leaves_Image_Dataset/Ak/Ak (93).png  \n",
            "  inflating: Grapevine_Leaves_Image_Dataset/Ak/Ak (94).png  \n",
            "  inflating: Grapevine_Leaves_Image_Dataset/Ak/Ak (95).png  \n",
            "  inflating: Grapevine_Leaves_Image_Dataset/Ak/Ak (96).png  \n",
            "  inflating: Grapevine_Leaves_Image_Dataset/Ak/Ak (97).png  \n",
            "  inflating: Grapevine_Leaves_Image_Dataset/Ak/Ak (98).png  \n",
            "  inflating: Grapevine_Leaves_Image_Dataset/Ak/Ak (99).png  \n",
            "  inflating: Grapevine_Leaves_Image_Dataset/Ala_Idris/Ala_Idris (1).png  \n",
            "  inflating: Grapevine_Leaves_Image_Dataset/Ala_Idris/Ala_Idris (10).png  \n",
            "  inflating: Grapevine_Leaves_Image_Dataset/Ala_Idris/Ala_Idris (100).png  \n",
            "  inflating: Grapevine_Leaves_Image_Dataset/Ala_Idris/Ala_Idris (11).png  \n",
            "  inflating: Grapevine_Leaves_Image_Dataset/Ala_Idris/Ala_Idris (12).png  \n",
            "  inflating: Grapevine_Leaves_Image_Dataset/Ala_Idris/Ala_Idris (13).png  \n",
            "  inflating: Grapevine_Leaves_Image_Dataset/Ala_Idris/Ala_Idris (14).png  \n",
            "  inflating: Grapevine_Leaves_Image_Dataset/Ala_Idris/Ala_Idris (15).png  \n",
            "  inflating: Grapevine_Leaves_Image_Dataset/Ala_Idris/Ala_Idris (16).png  \n",
            "  inflating: Grapevine_Leaves_Image_Dataset/Ala_Idris/Ala_Idris (17).png  \n",
            "  inflating: Grapevine_Leaves_Image_Dataset/Ala_Idris/Ala_Idris (18).png  \n",
            "  inflating: Grapevine_Leaves_Image_Dataset/Ala_Idris/Ala_Idris (19).png  \n",
            "  inflating: Grapevine_Leaves_Image_Dataset/Ala_Idris/Ala_Idris (2).png  \n",
            "  inflating: Grapevine_Leaves_Image_Dataset/Ala_Idris/Ala_Idris (20).png  \n",
            "  inflating: Grapevine_Leaves_Image_Dataset/Ala_Idris/Ala_Idris (21).png  \n",
            "  inflating: Grapevine_Leaves_Image_Dataset/Ala_Idris/Ala_Idris (22).png  \n",
            "  inflating: Grapevine_Leaves_Image_Dataset/Ala_Idris/Ala_Idris (23).png  \n",
            "  inflating: Grapevine_Leaves_Image_Dataset/Ala_Idris/Ala_Idris (24).png  \n",
            "  inflating: Grapevine_Leaves_Image_Dataset/Ala_Idris/Ala_Idris (25).png  \n",
            "  inflating: Grapevine_Leaves_Image_Dataset/Ala_Idris/Ala_Idris (26).png  \n",
            "  inflating: Grapevine_Leaves_Image_Dataset/Ala_Idris/Ala_Idris (27).png  \n",
            "  inflating: Grapevine_Leaves_Image_Dataset/Ala_Idris/Ala_Idris (28).png  \n",
            "  inflating: Grapevine_Leaves_Image_Dataset/Ala_Idris/Ala_Idris (29).png  \n",
            "  inflating: Grapevine_Leaves_Image_Dataset/Ala_Idris/Ala_Idris (3).png  \n",
            "  inflating: Grapevine_Leaves_Image_Dataset/Ala_Idris/Ala_Idris (30).png  \n",
            "  inflating: Grapevine_Leaves_Image_Dataset/Ala_Idris/Ala_Idris (31).png  \n",
            "  inflating: Grapevine_Leaves_Image_Dataset/Ala_Idris/Ala_Idris (32).png  \n",
            "  inflating: Grapevine_Leaves_Image_Dataset/Ala_Idris/Ala_Idris (33).png  \n",
            "  inflating: Grapevine_Leaves_Image_Dataset/Ala_Idris/Ala_Idris (34).png  \n",
            "  inflating: Grapevine_Leaves_Image_Dataset/Ala_Idris/Ala_Idris (35).png  \n",
            "  inflating: Grapevine_Leaves_Image_Dataset/Ala_Idris/Ala_Idris (36).png  \n",
            "  inflating: Grapevine_Leaves_Image_Dataset/Ala_Idris/Ala_Idris (37).png  \n",
            "  inflating: Grapevine_Leaves_Image_Dataset/Ala_Idris/Ala_Idris (38).png  \n",
            "  inflating: Grapevine_Leaves_Image_Dataset/Ala_Idris/Ala_Idris (39).png  \n",
            "  inflating: Grapevine_Leaves_Image_Dataset/Ala_Idris/Ala_Idris (4).png  \n",
            "  inflating: Grapevine_Leaves_Image_Dataset/Ala_Idris/Ala_Idris (40).png  \n",
            "  inflating: Grapevine_Leaves_Image_Dataset/Ala_Idris/Ala_Idris (41).png  \n",
            "  inflating: Grapevine_Leaves_Image_Dataset/Ala_Idris/Ala_Idris (42).png  \n",
            "  inflating: Grapevine_Leaves_Image_Dataset/Ala_Idris/Ala_Idris (43).png  \n",
            "  inflating: Grapevine_Leaves_Image_Dataset/Ala_Idris/Ala_Idris (44).png  \n",
            "  inflating: Grapevine_Leaves_Image_Dataset/Ala_Idris/Ala_Idris (45).png  \n",
            "  inflating: Grapevine_Leaves_Image_Dataset/Ala_Idris/Ala_Idris (46).png  \n",
            "  inflating: Grapevine_Leaves_Image_Dataset/Ala_Idris/Ala_Idris (47).png  \n",
            "  inflating: Grapevine_Leaves_Image_Dataset/Ala_Idris/Ala_Idris (48).png  \n",
            "  inflating: Grapevine_Leaves_Image_Dataset/Ala_Idris/Ala_Idris (49).png  \n",
            "  inflating: Grapevine_Leaves_Image_Dataset/Ala_Idris/Ala_Idris (5).png  \n",
            "  inflating: Grapevine_Leaves_Image_Dataset/Ala_Idris/Ala_Idris (50).png  \n",
            "  inflating: Grapevine_Leaves_Image_Dataset/Ala_Idris/Ala_Idris (51).png  \n",
            "  inflating: Grapevine_Leaves_Image_Dataset/Ala_Idris/Ala_Idris (52).png  \n",
            "  inflating: Grapevine_Leaves_Image_Dataset/Ala_Idris/Ala_Idris (53).png  \n",
            "  inflating: Grapevine_Leaves_Image_Dataset/Ala_Idris/Ala_Idris (54).png  \n",
            "  inflating: Grapevine_Leaves_Image_Dataset/Ala_Idris/Ala_Idris (55).png  \n",
            "  inflating: Grapevine_Leaves_Image_Dataset/Ala_Idris/Ala_Idris (56).png  \n",
            "  inflating: Grapevine_Leaves_Image_Dataset/Ala_Idris/Ala_Idris (57).png  \n",
            "  inflating: Grapevine_Leaves_Image_Dataset/Ala_Idris/Ala_Idris (58).png  \n",
            "  inflating: Grapevine_Leaves_Image_Dataset/Ala_Idris/Ala_Idris (59).png  \n",
            "  inflating: Grapevine_Leaves_Image_Dataset/Ala_Idris/Ala_Idris (6).png  \n",
            "  inflating: Grapevine_Leaves_Image_Dataset/Ala_Idris/Ala_Idris (60).png  \n",
            "  inflating: Grapevine_Leaves_Image_Dataset/Ala_Idris/Ala_Idris (61).png  \n",
            "  inflating: Grapevine_Leaves_Image_Dataset/Ala_Idris/Ala_Idris (62).png  \n",
            "  inflating: Grapevine_Leaves_Image_Dataset/Ala_Idris/Ala_Idris (63).png  \n",
            "  inflating: Grapevine_Leaves_Image_Dataset/Ala_Idris/Ala_Idris (64).png  \n",
            "  inflating: Grapevine_Leaves_Image_Dataset/Ala_Idris/Ala_Idris (65).png  \n",
            "  inflating: Grapevine_Leaves_Image_Dataset/Ala_Idris/Ala_Idris (66).png  \n",
            "  inflating: Grapevine_Leaves_Image_Dataset/Ala_Idris/Ala_Idris (67).png  \n",
            "  inflating: Grapevine_Leaves_Image_Dataset/Ala_Idris/Ala_Idris (68).png  \n",
            "  inflating: Grapevine_Leaves_Image_Dataset/Ala_Idris/Ala_Idris (69).png  \n",
            "  inflating: Grapevine_Leaves_Image_Dataset/Ala_Idris/Ala_Idris (7).png  \n",
            "  inflating: Grapevine_Leaves_Image_Dataset/Ala_Idris/Ala_Idris (70).png  \n",
            "  inflating: Grapevine_Leaves_Image_Dataset/Ala_Idris/Ala_Idris (71).png  \n",
            "  inflating: Grapevine_Leaves_Image_Dataset/Ala_Idris/Ala_Idris (72).png  \n",
            "  inflating: Grapevine_Leaves_Image_Dataset/Ala_Idris/Ala_Idris (73).png  \n",
            "  inflating: Grapevine_Leaves_Image_Dataset/Ala_Idris/Ala_Idris (74).png  \n",
            "  inflating: Grapevine_Leaves_Image_Dataset/Ala_Idris/Ala_Idris (75).png  \n",
            "  inflating: Grapevine_Leaves_Image_Dataset/Ala_Idris/Ala_Idris (76).png  \n",
            "  inflating: Grapevine_Leaves_Image_Dataset/Ala_Idris/Ala_Idris (77).png  \n",
            "  inflating: Grapevine_Leaves_Image_Dataset/Ala_Idris/Ala_Idris (78).png  \n",
            "  inflating: Grapevine_Leaves_Image_Dataset/Ala_Idris/Ala_Idris (79).png  \n",
            "  inflating: Grapevine_Leaves_Image_Dataset/Ala_Idris/Ala_Idris (8).png  \n",
            "  inflating: Grapevine_Leaves_Image_Dataset/Ala_Idris/Ala_Idris (80).png  \n",
            "  inflating: Grapevine_Leaves_Image_Dataset/Ala_Idris/Ala_Idris (81).png  \n",
            "  inflating: Grapevine_Leaves_Image_Dataset/Ala_Idris/Ala_Idris (82).png  \n",
            "  inflating: Grapevine_Leaves_Image_Dataset/Ala_Idris/Ala_Idris (83).png  \n",
            "  inflating: Grapevine_Leaves_Image_Dataset/Ala_Idris/Ala_Idris (84).png  \n",
            "  inflating: Grapevine_Leaves_Image_Dataset/Ala_Idris/Ala_Idris (85).png  \n",
            "  inflating: Grapevine_Leaves_Image_Dataset/Ala_Idris/Ala_Idris (86).png  \n",
            "  inflating: Grapevine_Leaves_Image_Dataset/Ala_Idris/Ala_Idris (87).png  \n",
            "  inflating: Grapevine_Leaves_Image_Dataset/Ala_Idris/Ala_Idris (88).png  \n",
            "  inflating: Grapevine_Leaves_Image_Dataset/Ala_Idris/Ala_Idris (89).png  \n",
            "  inflating: Grapevine_Leaves_Image_Dataset/Ala_Idris/Ala_Idris (9).png  \n",
            "  inflating: Grapevine_Leaves_Image_Dataset/Ala_Idris/Ala_Idris (90).png  \n",
            "  inflating: Grapevine_Leaves_Image_Dataset/Ala_Idris/Ala_Idris (91).png  \n",
            "  inflating: Grapevine_Leaves_Image_Dataset/Ala_Idris/Ala_Idris (92).png  \n",
            "  inflating: Grapevine_Leaves_Image_Dataset/Ala_Idris/Ala_Idris (93).png  \n",
            "  inflating: Grapevine_Leaves_Image_Dataset/Ala_Idris/Ala_Idris (94).png  \n",
            "  inflating: Grapevine_Leaves_Image_Dataset/Ala_Idris/Ala_Idris (95).png  \n",
            "  inflating: Grapevine_Leaves_Image_Dataset/Ala_Idris/Ala_Idris (96).png  \n",
            "  inflating: Grapevine_Leaves_Image_Dataset/Ala_Idris/Ala_Idris (97).png  \n",
            "  inflating: Grapevine_Leaves_Image_Dataset/Ala_Idris/Ala_Idris (98).png  \n",
            "  inflating: Grapevine_Leaves_Image_Dataset/Ala_Idris/Ala_Idris (99).png  \n",
            "  inflating: Grapevine_Leaves_Image_Dataset/Buzgulu/Buzgulu (1).png  \n",
            "  inflating: Grapevine_Leaves_Image_Dataset/Buzgulu/Buzgulu (10).png  \n",
            "  inflating: Grapevine_Leaves_Image_Dataset/Buzgulu/Buzgulu (100).png  \n",
            "  inflating: Grapevine_Leaves_Image_Dataset/Buzgulu/Buzgulu (11).png  \n",
            "  inflating: Grapevine_Leaves_Image_Dataset/Buzgulu/Buzgulu (12).png  \n",
            "  inflating: Grapevine_Leaves_Image_Dataset/Buzgulu/Buzgulu (13).png  \n",
            "  inflating: Grapevine_Leaves_Image_Dataset/Buzgulu/Buzgulu (14).png  \n",
            "  inflating: Grapevine_Leaves_Image_Dataset/Buzgulu/Buzgulu (15).png  \n",
            "  inflating: Grapevine_Leaves_Image_Dataset/Buzgulu/Buzgulu (16).png  \n",
            "  inflating: Grapevine_Leaves_Image_Dataset/Buzgulu/Buzgulu (17).png  \n",
            "  inflating: Grapevine_Leaves_Image_Dataset/Buzgulu/Buzgulu (18).png  \n",
            "  inflating: Grapevine_Leaves_Image_Dataset/Buzgulu/Buzgulu (19).png  \n",
            "  inflating: Grapevine_Leaves_Image_Dataset/Buzgulu/Buzgulu (2).png  \n",
            "  inflating: Grapevine_Leaves_Image_Dataset/Buzgulu/Buzgulu (20).png  \n",
            "  inflating: Grapevine_Leaves_Image_Dataset/Buzgulu/Buzgulu (21).png  \n",
            "  inflating: Grapevine_Leaves_Image_Dataset/Buzgulu/Buzgulu (22).png  \n",
            "  inflating: Grapevine_Leaves_Image_Dataset/Buzgulu/Buzgulu (23).png  \n",
            "  inflating: Grapevine_Leaves_Image_Dataset/Buzgulu/Buzgulu (24).png  \n",
            "  inflating: Grapevine_Leaves_Image_Dataset/Buzgulu/Buzgulu (25).png  \n",
            "  inflating: Grapevine_Leaves_Image_Dataset/Buzgulu/Buzgulu (26).png  \n",
            "  inflating: Grapevine_Leaves_Image_Dataset/Buzgulu/Buzgulu (27).png  \n",
            "  inflating: Grapevine_Leaves_Image_Dataset/Buzgulu/Buzgulu (28).png  \n",
            "  inflating: Grapevine_Leaves_Image_Dataset/Buzgulu/Buzgulu (29).png  \n",
            "  inflating: Grapevine_Leaves_Image_Dataset/Buzgulu/Buzgulu (3).png  \n",
            "  inflating: Grapevine_Leaves_Image_Dataset/Buzgulu/Buzgulu (30).png  \n",
            "  inflating: Grapevine_Leaves_Image_Dataset/Buzgulu/Buzgulu (31).png  \n",
            "  inflating: Grapevine_Leaves_Image_Dataset/Buzgulu/Buzgulu (32).png  \n",
            "  inflating: Grapevine_Leaves_Image_Dataset/Buzgulu/Buzgulu (33).png  \n",
            "  inflating: Grapevine_Leaves_Image_Dataset/Buzgulu/Buzgulu (34).png  \n",
            "  inflating: Grapevine_Leaves_Image_Dataset/Buzgulu/Buzgulu (35).png  \n",
            "  inflating: Grapevine_Leaves_Image_Dataset/Buzgulu/Buzgulu (36).png  \n",
            "  inflating: Grapevine_Leaves_Image_Dataset/Buzgulu/Buzgulu (37).png  \n",
            "  inflating: Grapevine_Leaves_Image_Dataset/Buzgulu/Buzgulu (38).png  \n",
            "  inflating: Grapevine_Leaves_Image_Dataset/Buzgulu/Buzgulu (39).png  \n",
            "  inflating: Grapevine_Leaves_Image_Dataset/Buzgulu/Buzgulu (4).png  \n",
            "  inflating: Grapevine_Leaves_Image_Dataset/Buzgulu/Buzgulu (40).png  \n",
            "  inflating: Grapevine_Leaves_Image_Dataset/Buzgulu/Buzgulu (41).png  \n",
            "  inflating: Grapevine_Leaves_Image_Dataset/Buzgulu/Buzgulu (42).png  \n",
            "  inflating: Grapevine_Leaves_Image_Dataset/Buzgulu/Buzgulu (43).png  \n",
            "  inflating: Grapevine_Leaves_Image_Dataset/Buzgulu/Buzgulu (44).png  \n",
            "  inflating: Grapevine_Leaves_Image_Dataset/Buzgulu/Buzgulu (45).png  \n",
            "  inflating: Grapevine_Leaves_Image_Dataset/Buzgulu/Buzgulu (46).png  \n",
            "  inflating: Grapevine_Leaves_Image_Dataset/Buzgulu/Buzgulu (47).png  \n",
            "  inflating: Grapevine_Leaves_Image_Dataset/Buzgulu/Buzgulu (48).png  \n",
            "  inflating: Grapevine_Leaves_Image_Dataset/Buzgulu/Buzgulu (49).png  \n",
            "  inflating: Grapevine_Leaves_Image_Dataset/Buzgulu/Buzgulu (5).png  \n",
            "  inflating: Grapevine_Leaves_Image_Dataset/Buzgulu/Buzgulu (50).png  \n",
            "  inflating: Grapevine_Leaves_Image_Dataset/Buzgulu/Buzgulu (51).png  \n",
            "  inflating: Grapevine_Leaves_Image_Dataset/Buzgulu/Buzgulu (52).png  \n",
            "  inflating: Grapevine_Leaves_Image_Dataset/Buzgulu/Buzgulu (53).png  \n",
            "  inflating: Grapevine_Leaves_Image_Dataset/Buzgulu/Buzgulu (54).png  \n",
            "  inflating: Grapevine_Leaves_Image_Dataset/Buzgulu/Buzgulu (55).png  \n",
            "  inflating: Grapevine_Leaves_Image_Dataset/Buzgulu/Buzgulu (56).png  \n",
            "  inflating: Grapevine_Leaves_Image_Dataset/Buzgulu/Buzgulu (57).png  \n",
            "  inflating: Grapevine_Leaves_Image_Dataset/Buzgulu/Buzgulu (58).png  \n",
            "  inflating: Grapevine_Leaves_Image_Dataset/Buzgulu/Buzgulu (59).png  \n",
            "  inflating: Grapevine_Leaves_Image_Dataset/Buzgulu/Buzgulu (6).png  \n",
            "  inflating: Grapevine_Leaves_Image_Dataset/Buzgulu/Buzgulu (60).png  \n",
            "  inflating: Grapevine_Leaves_Image_Dataset/Buzgulu/Buzgulu (61).png  \n",
            "  inflating: Grapevine_Leaves_Image_Dataset/Buzgulu/Buzgulu (62).png  \n",
            "  inflating: Grapevine_Leaves_Image_Dataset/Buzgulu/Buzgulu (63).png  \n",
            "  inflating: Grapevine_Leaves_Image_Dataset/Buzgulu/Buzgulu (64).png  \n",
            "  inflating: Grapevine_Leaves_Image_Dataset/Buzgulu/Buzgulu (65).png  \n",
            "  inflating: Grapevine_Leaves_Image_Dataset/Buzgulu/Buzgulu (66).png  \n",
            "  inflating: Grapevine_Leaves_Image_Dataset/Buzgulu/Buzgulu (67).png  \n",
            "  inflating: Grapevine_Leaves_Image_Dataset/Buzgulu/Buzgulu (68).png  \n",
            "  inflating: Grapevine_Leaves_Image_Dataset/Buzgulu/Buzgulu (69).png  \n",
            "  inflating: Grapevine_Leaves_Image_Dataset/Buzgulu/Buzgulu (7).png  \n",
            "  inflating: Grapevine_Leaves_Image_Dataset/Buzgulu/Buzgulu (70).png  \n",
            "  inflating: Grapevine_Leaves_Image_Dataset/Buzgulu/Buzgulu (71).png  \n",
            "  inflating: Grapevine_Leaves_Image_Dataset/Buzgulu/Buzgulu (72).png  \n",
            "  inflating: Grapevine_Leaves_Image_Dataset/Buzgulu/Buzgulu (73).png  \n",
            "  inflating: Grapevine_Leaves_Image_Dataset/Buzgulu/Buzgulu (74).png  \n",
            "  inflating: Grapevine_Leaves_Image_Dataset/Buzgulu/Buzgulu (75).png  \n",
            "  inflating: Grapevine_Leaves_Image_Dataset/Buzgulu/Buzgulu (76).png  \n",
            "  inflating: Grapevine_Leaves_Image_Dataset/Buzgulu/Buzgulu (77).png  \n",
            "  inflating: Grapevine_Leaves_Image_Dataset/Buzgulu/Buzgulu (78).png  \n",
            "  inflating: Grapevine_Leaves_Image_Dataset/Buzgulu/Buzgulu (79).png  \n",
            "  inflating: Grapevine_Leaves_Image_Dataset/Buzgulu/Buzgulu (8).png  \n",
            "  inflating: Grapevine_Leaves_Image_Dataset/Buzgulu/Buzgulu (80).png  \n",
            "  inflating: Grapevine_Leaves_Image_Dataset/Buzgulu/Buzgulu (81).png  \n",
            "  inflating: Grapevine_Leaves_Image_Dataset/Buzgulu/Buzgulu (82).png  \n",
            "  inflating: Grapevine_Leaves_Image_Dataset/Buzgulu/Buzgulu (83).png  \n",
            "  inflating: Grapevine_Leaves_Image_Dataset/Buzgulu/Buzgulu (84).png  \n",
            "  inflating: Grapevine_Leaves_Image_Dataset/Buzgulu/Buzgulu (85).png  \n",
            "  inflating: Grapevine_Leaves_Image_Dataset/Buzgulu/Buzgulu (86).png  \n",
            "  inflating: Grapevine_Leaves_Image_Dataset/Buzgulu/Buzgulu (87).png  \n",
            "  inflating: Grapevine_Leaves_Image_Dataset/Buzgulu/Buzgulu (88).png  \n",
            "  inflating: Grapevine_Leaves_Image_Dataset/Buzgulu/Buzgulu (89).png  \n",
            "  inflating: Grapevine_Leaves_Image_Dataset/Buzgulu/Buzgulu (9).png  \n",
            "  inflating: Grapevine_Leaves_Image_Dataset/Buzgulu/Buzgulu (90).png  \n",
            "  inflating: Grapevine_Leaves_Image_Dataset/Buzgulu/Buzgulu (91).png  \n",
            "  inflating: Grapevine_Leaves_Image_Dataset/Buzgulu/Buzgulu (92).png  \n",
            "  inflating: Grapevine_Leaves_Image_Dataset/Buzgulu/Buzgulu (93).png  \n",
            "  inflating: Grapevine_Leaves_Image_Dataset/Buzgulu/Buzgulu (94).png  \n",
            "  inflating: Grapevine_Leaves_Image_Dataset/Buzgulu/Buzgulu (95).png  \n",
            "  inflating: Grapevine_Leaves_Image_Dataset/Buzgulu/Buzgulu (96).png  \n",
            "  inflating: Grapevine_Leaves_Image_Dataset/Buzgulu/Buzgulu (97).png  \n",
            "  inflating: Grapevine_Leaves_Image_Dataset/Buzgulu/Buzgulu (98).png  \n",
            "  inflating: Grapevine_Leaves_Image_Dataset/Buzgulu/Buzgulu (99).png  \n",
            "  inflating: Grapevine_Leaves_Image_Dataset/Dimnit/Dimnit (1).png  \n",
            "  inflating: Grapevine_Leaves_Image_Dataset/Dimnit/Dimnit (10).png  \n",
            "  inflating: Grapevine_Leaves_Image_Dataset/Dimnit/Dimnit (100).png  \n",
            "  inflating: Grapevine_Leaves_Image_Dataset/Dimnit/Dimnit (11).png  \n",
            "  inflating: Grapevine_Leaves_Image_Dataset/Dimnit/Dimnit (12).png  \n",
            "  inflating: Grapevine_Leaves_Image_Dataset/Dimnit/Dimnit (13).png  \n",
            "  inflating: Grapevine_Leaves_Image_Dataset/Dimnit/Dimnit (14).png  \n",
            "  inflating: Grapevine_Leaves_Image_Dataset/Dimnit/Dimnit (15).png  \n",
            "  inflating: Grapevine_Leaves_Image_Dataset/Dimnit/Dimnit (16).png  \n",
            "  inflating: Grapevine_Leaves_Image_Dataset/Dimnit/Dimnit (17).png  \n",
            "  inflating: Grapevine_Leaves_Image_Dataset/Dimnit/Dimnit (18).png  \n",
            "  inflating: Grapevine_Leaves_Image_Dataset/Dimnit/Dimnit (19).png  \n",
            "  inflating: Grapevine_Leaves_Image_Dataset/Dimnit/Dimnit (2).png  \n",
            "  inflating: Grapevine_Leaves_Image_Dataset/Dimnit/Dimnit (20).png  \n",
            "  inflating: Grapevine_Leaves_Image_Dataset/Dimnit/Dimnit (21).png  \n",
            "  inflating: Grapevine_Leaves_Image_Dataset/Dimnit/Dimnit (22).png  \n",
            "  inflating: Grapevine_Leaves_Image_Dataset/Dimnit/Dimnit (23).png  \n",
            "  inflating: Grapevine_Leaves_Image_Dataset/Dimnit/Dimnit (24).png  \n",
            "  inflating: Grapevine_Leaves_Image_Dataset/Dimnit/Dimnit (25).png  \n",
            "  inflating: Grapevine_Leaves_Image_Dataset/Dimnit/Dimnit (26).png  \n",
            "  inflating: Grapevine_Leaves_Image_Dataset/Dimnit/Dimnit (27).png  \n",
            "  inflating: Grapevine_Leaves_Image_Dataset/Dimnit/Dimnit (28).png  \n",
            "  inflating: Grapevine_Leaves_Image_Dataset/Dimnit/Dimnit (29).png  \n",
            "  inflating: Grapevine_Leaves_Image_Dataset/Dimnit/Dimnit (3).png  \n",
            "  inflating: Grapevine_Leaves_Image_Dataset/Dimnit/Dimnit (30).png  \n",
            "  inflating: Grapevine_Leaves_Image_Dataset/Dimnit/Dimnit (31).png  \n",
            "  inflating: Grapevine_Leaves_Image_Dataset/Dimnit/Dimnit (32).png  \n",
            "  inflating: Grapevine_Leaves_Image_Dataset/Dimnit/Dimnit (33).png  \n",
            "  inflating: Grapevine_Leaves_Image_Dataset/Dimnit/Dimnit (34).png  \n",
            "  inflating: Grapevine_Leaves_Image_Dataset/Dimnit/Dimnit (35).png  \n",
            "  inflating: Grapevine_Leaves_Image_Dataset/Dimnit/Dimnit (36).png  \n",
            "  inflating: Grapevine_Leaves_Image_Dataset/Dimnit/Dimnit (37).png  \n",
            "  inflating: Grapevine_Leaves_Image_Dataset/Dimnit/Dimnit (38).png  \n",
            "  inflating: Grapevine_Leaves_Image_Dataset/Dimnit/Dimnit (39).png  \n",
            "  inflating: Grapevine_Leaves_Image_Dataset/Dimnit/Dimnit (4).png  \n",
            "  inflating: Grapevine_Leaves_Image_Dataset/Dimnit/Dimnit (40).png  \n",
            "  inflating: Grapevine_Leaves_Image_Dataset/Dimnit/Dimnit (41).png  \n",
            "  inflating: Grapevine_Leaves_Image_Dataset/Dimnit/Dimnit (42).png  \n",
            "  inflating: Grapevine_Leaves_Image_Dataset/Dimnit/Dimnit (43).png  \n",
            "  inflating: Grapevine_Leaves_Image_Dataset/Dimnit/Dimnit (44).png  \n",
            "  inflating: Grapevine_Leaves_Image_Dataset/Dimnit/Dimnit (45).png  \n",
            "  inflating: Grapevine_Leaves_Image_Dataset/Dimnit/Dimnit (46).png  \n",
            "  inflating: Grapevine_Leaves_Image_Dataset/Dimnit/Dimnit (47).png  \n",
            "  inflating: Grapevine_Leaves_Image_Dataset/Dimnit/Dimnit (48).png  \n",
            "  inflating: Grapevine_Leaves_Image_Dataset/Dimnit/Dimnit (49).png  \n",
            "  inflating: Grapevine_Leaves_Image_Dataset/Dimnit/Dimnit (5).png  \n",
            "  inflating: Grapevine_Leaves_Image_Dataset/Dimnit/Dimnit (50).png  \n",
            "  inflating: Grapevine_Leaves_Image_Dataset/Dimnit/Dimnit (51).png  \n",
            "  inflating: Grapevine_Leaves_Image_Dataset/Dimnit/Dimnit (52).png  \n",
            "  inflating: Grapevine_Leaves_Image_Dataset/Dimnit/Dimnit (53).png  \n",
            "  inflating: Grapevine_Leaves_Image_Dataset/Dimnit/Dimnit (54).png  \n",
            "  inflating: Grapevine_Leaves_Image_Dataset/Dimnit/Dimnit (55).png  \n",
            "  inflating: Grapevine_Leaves_Image_Dataset/Dimnit/Dimnit (56).png  \n",
            "  inflating: Grapevine_Leaves_Image_Dataset/Dimnit/Dimnit (57).png  \n",
            "  inflating: Grapevine_Leaves_Image_Dataset/Dimnit/Dimnit (58).png  \n",
            "  inflating: Grapevine_Leaves_Image_Dataset/Dimnit/Dimnit (59).png  \n",
            "  inflating: Grapevine_Leaves_Image_Dataset/Dimnit/Dimnit (6).png  \n",
            "  inflating: Grapevine_Leaves_Image_Dataset/Dimnit/Dimnit (60).png  \n",
            "  inflating: Grapevine_Leaves_Image_Dataset/Dimnit/Dimnit (61).png  \n",
            "  inflating: Grapevine_Leaves_Image_Dataset/Dimnit/Dimnit (62).png  \n",
            "  inflating: Grapevine_Leaves_Image_Dataset/Dimnit/Dimnit (63).png  \n",
            "  inflating: Grapevine_Leaves_Image_Dataset/Dimnit/Dimnit (64).png  \n",
            "  inflating: Grapevine_Leaves_Image_Dataset/Dimnit/Dimnit (65).png  \n",
            "  inflating: Grapevine_Leaves_Image_Dataset/Dimnit/Dimnit (66).png  \n",
            "  inflating: Grapevine_Leaves_Image_Dataset/Dimnit/Dimnit (67).png  \n",
            "  inflating: Grapevine_Leaves_Image_Dataset/Dimnit/Dimnit (68).png  \n",
            "  inflating: Grapevine_Leaves_Image_Dataset/Dimnit/Dimnit (69).png  \n",
            "  inflating: Grapevine_Leaves_Image_Dataset/Dimnit/Dimnit (7).png  \n",
            "  inflating: Grapevine_Leaves_Image_Dataset/Dimnit/Dimnit (70).png  \n",
            "  inflating: Grapevine_Leaves_Image_Dataset/Dimnit/Dimnit (71).png  \n",
            "  inflating: Grapevine_Leaves_Image_Dataset/Dimnit/Dimnit (72).png  \n",
            "  inflating: Grapevine_Leaves_Image_Dataset/Dimnit/Dimnit (73).png  \n",
            "  inflating: Grapevine_Leaves_Image_Dataset/Dimnit/Dimnit (74).png  \n",
            "  inflating: Grapevine_Leaves_Image_Dataset/Dimnit/Dimnit (75).png  \n",
            "  inflating: Grapevine_Leaves_Image_Dataset/Dimnit/Dimnit (76).png  \n",
            "  inflating: Grapevine_Leaves_Image_Dataset/Dimnit/Dimnit (77).png  \n",
            "  inflating: Grapevine_Leaves_Image_Dataset/Dimnit/Dimnit (78).png  \n",
            "  inflating: Grapevine_Leaves_Image_Dataset/Dimnit/Dimnit (79).png  \n",
            "  inflating: Grapevine_Leaves_Image_Dataset/Dimnit/Dimnit (8).png  \n",
            "  inflating: Grapevine_Leaves_Image_Dataset/Dimnit/Dimnit (80).png  \n",
            "  inflating: Grapevine_Leaves_Image_Dataset/Dimnit/Dimnit (81).png  \n",
            "  inflating: Grapevine_Leaves_Image_Dataset/Dimnit/Dimnit (82).png  \n",
            "  inflating: Grapevine_Leaves_Image_Dataset/Dimnit/Dimnit (83).png  \n",
            "  inflating: Grapevine_Leaves_Image_Dataset/Dimnit/Dimnit (84).png  \n",
            "  inflating: Grapevine_Leaves_Image_Dataset/Dimnit/Dimnit (85).png  \n",
            "  inflating: Grapevine_Leaves_Image_Dataset/Dimnit/Dimnit (86).png  \n",
            "  inflating: Grapevine_Leaves_Image_Dataset/Dimnit/Dimnit (87).png  \n",
            "  inflating: Grapevine_Leaves_Image_Dataset/Dimnit/Dimnit (88).png  \n",
            "  inflating: Grapevine_Leaves_Image_Dataset/Dimnit/Dimnit (89).png  \n",
            "  inflating: Grapevine_Leaves_Image_Dataset/Dimnit/Dimnit (9).png  \n",
            "  inflating: Grapevine_Leaves_Image_Dataset/Dimnit/Dimnit (90).png  \n",
            "  inflating: Grapevine_Leaves_Image_Dataset/Dimnit/Dimnit (91).png  \n",
            "  inflating: Grapevine_Leaves_Image_Dataset/Dimnit/Dimnit (92).png  \n",
            "  inflating: Grapevine_Leaves_Image_Dataset/Dimnit/Dimnit (93).png  \n",
            "  inflating: Grapevine_Leaves_Image_Dataset/Dimnit/Dimnit (94).png  \n",
            "  inflating: Grapevine_Leaves_Image_Dataset/Dimnit/Dimnit (95).png  \n",
            "  inflating: Grapevine_Leaves_Image_Dataset/Dimnit/Dimnit (96).png  \n",
            "  inflating: Grapevine_Leaves_Image_Dataset/Dimnit/Dimnit (97).png  \n",
            "  inflating: Grapevine_Leaves_Image_Dataset/Dimnit/Dimnit (98).png  \n",
            "  inflating: Grapevine_Leaves_Image_Dataset/Dimnit/Dimnit (99).png  \n",
            "  inflating: Grapevine_Leaves_Image_Dataset/Grapevine_Leaves_Image_Dataset_Citation_Request.txt  \n",
            "  inflating: Grapevine_Leaves_Image_Dataset/Nazli/Nazli (1).png  \n",
            "  inflating: Grapevine_Leaves_Image_Dataset/Nazli/Nazli (10).png  \n",
            "  inflating: Grapevine_Leaves_Image_Dataset/Nazli/Nazli (100).png  \n",
            "  inflating: Grapevine_Leaves_Image_Dataset/Nazli/Nazli (11).png  \n",
            "  inflating: Grapevine_Leaves_Image_Dataset/Nazli/Nazli (12).png  \n",
            "  inflating: Grapevine_Leaves_Image_Dataset/Nazli/Nazli (13).png  \n",
            "  inflating: Grapevine_Leaves_Image_Dataset/Nazli/Nazli (14).png  \n",
            "  inflating: Grapevine_Leaves_Image_Dataset/Nazli/Nazli (15).png  \n",
            "  inflating: Grapevine_Leaves_Image_Dataset/Nazli/Nazli (16).png  \n",
            "  inflating: Grapevine_Leaves_Image_Dataset/Nazli/Nazli (17).png  \n",
            "  inflating: Grapevine_Leaves_Image_Dataset/Nazli/Nazli (18).png  \n",
            "  inflating: Grapevine_Leaves_Image_Dataset/Nazli/Nazli (19).png  \n",
            "  inflating: Grapevine_Leaves_Image_Dataset/Nazli/Nazli (2).png  \n",
            "  inflating: Grapevine_Leaves_Image_Dataset/Nazli/Nazli (20).png  \n",
            "  inflating: Grapevine_Leaves_Image_Dataset/Nazli/Nazli (21).png  \n",
            "  inflating: Grapevine_Leaves_Image_Dataset/Nazli/Nazli (22).png  \n",
            "  inflating: Grapevine_Leaves_Image_Dataset/Nazli/Nazli (23).png  \n",
            "  inflating: Grapevine_Leaves_Image_Dataset/Nazli/Nazli (24).png  \n",
            "  inflating: Grapevine_Leaves_Image_Dataset/Nazli/Nazli (25).png  \n",
            "  inflating: Grapevine_Leaves_Image_Dataset/Nazli/Nazli (26).png  \n",
            "  inflating: Grapevine_Leaves_Image_Dataset/Nazli/Nazli (27).png  \n",
            "  inflating: Grapevine_Leaves_Image_Dataset/Nazli/Nazli (28).png  \n",
            "  inflating: Grapevine_Leaves_Image_Dataset/Nazli/Nazli (29).png  \n",
            "  inflating: Grapevine_Leaves_Image_Dataset/Nazli/Nazli (3).png  \n",
            "  inflating: Grapevine_Leaves_Image_Dataset/Nazli/Nazli (30).png  \n",
            "  inflating: Grapevine_Leaves_Image_Dataset/Nazli/Nazli (31).png  \n",
            "  inflating: Grapevine_Leaves_Image_Dataset/Nazli/Nazli (32).png  \n",
            "  inflating: Grapevine_Leaves_Image_Dataset/Nazli/Nazli (33).png  \n",
            "  inflating: Grapevine_Leaves_Image_Dataset/Nazli/Nazli (34).png  \n",
            "  inflating: Grapevine_Leaves_Image_Dataset/Nazli/Nazli (35).png  \n",
            "  inflating: Grapevine_Leaves_Image_Dataset/Nazli/Nazli (36).png  \n",
            "  inflating: Grapevine_Leaves_Image_Dataset/Nazli/Nazli (37).png  \n",
            "  inflating: Grapevine_Leaves_Image_Dataset/Nazli/Nazli (38).png  \n",
            "  inflating: Grapevine_Leaves_Image_Dataset/Nazli/Nazli (39).png  \n",
            "  inflating: Grapevine_Leaves_Image_Dataset/Nazli/Nazli (4).png  \n",
            "  inflating: Grapevine_Leaves_Image_Dataset/Nazli/Nazli (40).png  \n",
            "  inflating: Grapevine_Leaves_Image_Dataset/Nazli/Nazli (41).png  \n",
            "  inflating: Grapevine_Leaves_Image_Dataset/Nazli/Nazli (42).png  \n",
            "  inflating: Grapevine_Leaves_Image_Dataset/Nazli/Nazli (43).png  \n",
            "  inflating: Grapevine_Leaves_Image_Dataset/Nazli/Nazli (44).png  \n",
            "  inflating: Grapevine_Leaves_Image_Dataset/Nazli/Nazli (45).png  \n",
            "  inflating: Grapevine_Leaves_Image_Dataset/Nazli/Nazli (46).png  \n",
            "  inflating: Grapevine_Leaves_Image_Dataset/Nazli/Nazli (47).png  \n",
            "  inflating: Grapevine_Leaves_Image_Dataset/Nazli/Nazli (48).png  \n",
            "  inflating: Grapevine_Leaves_Image_Dataset/Nazli/Nazli (49).png  \n",
            "  inflating: Grapevine_Leaves_Image_Dataset/Nazli/Nazli (5).png  \n",
            "  inflating: Grapevine_Leaves_Image_Dataset/Nazli/Nazli (50).png  \n",
            "  inflating: Grapevine_Leaves_Image_Dataset/Nazli/Nazli (51).png  \n",
            "  inflating: Grapevine_Leaves_Image_Dataset/Nazli/Nazli (52).png  \n",
            "  inflating: Grapevine_Leaves_Image_Dataset/Nazli/Nazli (53).png  \n",
            "  inflating: Grapevine_Leaves_Image_Dataset/Nazli/Nazli (54).png  \n",
            "  inflating: Grapevine_Leaves_Image_Dataset/Nazli/Nazli (55).png  \n",
            "  inflating: Grapevine_Leaves_Image_Dataset/Nazli/Nazli (56).png  \n",
            "  inflating: Grapevine_Leaves_Image_Dataset/Nazli/Nazli (57).png  \n",
            "  inflating: Grapevine_Leaves_Image_Dataset/Nazli/Nazli (58).png  \n",
            "  inflating: Grapevine_Leaves_Image_Dataset/Nazli/Nazli (59).png  \n",
            "  inflating: Grapevine_Leaves_Image_Dataset/Nazli/Nazli (6).png  \n",
            "  inflating: Grapevine_Leaves_Image_Dataset/Nazli/Nazli (60).png  \n",
            "  inflating: Grapevine_Leaves_Image_Dataset/Nazli/Nazli (61).png  \n",
            "  inflating: Grapevine_Leaves_Image_Dataset/Nazli/Nazli (62).png  \n",
            "  inflating: Grapevine_Leaves_Image_Dataset/Nazli/Nazli (63).png  \n",
            "  inflating: Grapevine_Leaves_Image_Dataset/Nazli/Nazli (64).png  \n",
            "  inflating: Grapevine_Leaves_Image_Dataset/Nazli/Nazli (65).png  \n",
            "  inflating: Grapevine_Leaves_Image_Dataset/Nazli/Nazli (66).png  \n",
            "  inflating: Grapevine_Leaves_Image_Dataset/Nazli/Nazli (67).png  \n",
            "  inflating: Grapevine_Leaves_Image_Dataset/Nazli/Nazli (68).png  \n",
            "  inflating: Grapevine_Leaves_Image_Dataset/Nazli/Nazli (69).png  \n",
            "  inflating: Grapevine_Leaves_Image_Dataset/Nazli/Nazli (7).png  \n",
            "  inflating: Grapevine_Leaves_Image_Dataset/Nazli/Nazli (70).png  \n",
            "  inflating: Grapevine_Leaves_Image_Dataset/Nazli/Nazli (71).png  \n",
            "  inflating: Grapevine_Leaves_Image_Dataset/Nazli/Nazli (72).png  \n",
            "  inflating: Grapevine_Leaves_Image_Dataset/Nazli/Nazli (73).png  \n",
            "  inflating: Grapevine_Leaves_Image_Dataset/Nazli/Nazli (74).png  \n",
            "  inflating: Grapevine_Leaves_Image_Dataset/Nazli/Nazli (75).png  \n",
            "  inflating: Grapevine_Leaves_Image_Dataset/Nazli/Nazli (76).png  \n",
            "  inflating: Grapevine_Leaves_Image_Dataset/Nazli/Nazli (77).png  \n",
            "  inflating: Grapevine_Leaves_Image_Dataset/Nazli/Nazli (78).png  \n",
            "  inflating: Grapevine_Leaves_Image_Dataset/Nazli/Nazli (79).png  \n",
            "  inflating: Grapevine_Leaves_Image_Dataset/Nazli/Nazli (8).png  \n",
            "  inflating: Grapevine_Leaves_Image_Dataset/Nazli/Nazli (80).png  \n",
            "  inflating: Grapevine_Leaves_Image_Dataset/Nazli/Nazli (81).png  \n",
            "  inflating: Grapevine_Leaves_Image_Dataset/Nazli/Nazli (82).png  \n",
            "  inflating: Grapevine_Leaves_Image_Dataset/Nazli/Nazli (83).png  \n",
            "  inflating: Grapevine_Leaves_Image_Dataset/Nazli/Nazli (84).png  \n",
            "  inflating: Grapevine_Leaves_Image_Dataset/Nazli/Nazli (85).png  \n",
            "  inflating: Grapevine_Leaves_Image_Dataset/Nazli/Nazli (86).png  \n",
            "  inflating: Grapevine_Leaves_Image_Dataset/Nazli/Nazli (87).png  \n",
            "  inflating: Grapevine_Leaves_Image_Dataset/Nazli/Nazli (88).png  \n",
            "  inflating: Grapevine_Leaves_Image_Dataset/Nazli/Nazli (89).png  \n",
            "  inflating: Grapevine_Leaves_Image_Dataset/Nazli/Nazli (9).png  \n",
            "  inflating: Grapevine_Leaves_Image_Dataset/Nazli/Nazli (90).png  \n",
            "  inflating: Grapevine_Leaves_Image_Dataset/Nazli/Nazli (91).png  \n",
            "  inflating: Grapevine_Leaves_Image_Dataset/Nazli/Nazli (92).png  \n",
            "  inflating: Grapevine_Leaves_Image_Dataset/Nazli/Nazli (93).png  \n",
            "  inflating: Grapevine_Leaves_Image_Dataset/Nazli/Nazli (94).png  \n",
            "  inflating: Grapevine_Leaves_Image_Dataset/Nazli/Nazli (95).png  \n",
            "  inflating: Grapevine_Leaves_Image_Dataset/Nazli/Nazli (96).png  \n",
            "  inflating: Grapevine_Leaves_Image_Dataset/Nazli/Nazli (97).png  \n",
            "  inflating: Grapevine_Leaves_Image_Dataset/Nazli/Nazli (98).png  \n",
            "  inflating: Grapevine_Leaves_Image_Dataset/Nazli/Nazli (99).png  \n"
          ]
        }
      ]
    },
    {
      "cell_type": "markdown",
      "id": "4c239686",
      "metadata": {
        "papermill": {
          "duration": 0.006566,
          "end_time": "2022-06-02T18:15:43.274226",
          "exception": false,
          "start_time": "2022-06-02T18:15:43.267660",
          "status": "completed"
        },
        "tags": [],
        "id": "4c239686"
      },
      "source": [
        "# DATA PROCESSING "
      ]
    },
    {
      "cell_type": "code",
      "execution_count": null,
      "id": "774d44d8",
      "metadata": {
        "execution": {
          "iopub.execute_input": "2022-06-02T18:15:43.289845Z",
          "iopub.status.busy": "2022-06-02T18:15:43.289247Z",
          "iopub.status.idle": "2022-06-02T18:15:43.299851Z",
          "shell.execute_reply": "2022-06-02T18:15:43.298900Z"
        },
        "papermill": {
          "duration": 0.021523,
          "end_time": "2022-06-02T18:15:43.302585",
          "exception": false,
          "start_time": "2022-06-02T18:15:43.281062",
          "status": "completed"
        },
        "tags": [],
        "colab": {
          "base_uri": "https://localhost:8080/"
        },
        "id": "774d44d8",
        "outputId": "1222518b-3765-40c6-eed9-9016e5b89f07"
      },
      "outputs": [
        {
          "output_type": "stream",
          "name": "stdout",
          "text": [
            "['Buzgulu', 'Ak', 'Grapevine_Leaves_Image_Dataset_Citation_Request.txt', 'Ala_Idris', 'Nazli', 'Dimnit']\n"
          ]
        }
      ],
      "source": [
        "cats = ['Ak', 'Ala_Idris', 'Buzgulu', 'Dimnit', 'Nazli']\n",
        "dir = '/content/Grapevine_Leaves_Image_Dataset'\n",
        "\n",
        "print(os.listdir(dir))\n"
      ]
    },
    {
      "cell_type": "code",
      "execution_count": null,
      "id": "39c78ce7",
      "metadata": {
        "execution": {
          "iopub.execute_input": "2022-06-02T18:15:43.318834Z",
          "iopub.status.busy": "2022-06-02T18:15:43.318527Z",
          "iopub.status.idle": "2022-06-02T18:15:43.376730Z",
          "shell.execute_reply": "2022-06-02T18:15:43.375534Z"
        },
        "papermill": {
          "duration": 0.069445,
          "end_time": "2022-06-02T18:15:43.379100",
          "exception": false,
          "start_time": "2022-06-02T18:15:43.309655",
          "status": "completed"
        },
        "tags": [],
        "id": "39c78ce7"
      },
      "outputs": [],
      "source": [
        "img_path = []\n",
        "classes = []\n",
        "\n",
        "for d in os.listdir(dir):\n",
        "    lbl_path = os.path.join(dir,d)\n",
        "    if d in cats:\n",
        "        for image in os.listdir(lbl_path):\n",
        "            img_path.append(os.path.join(lbl_path, image))\n",
        "            classes.append(d)"
      ]
    },
    {
      "cell_type": "code",
      "execution_count": null,
      "id": "4edb138e",
      "metadata": {
        "execution": {
          "iopub.execute_input": "2022-06-02T18:15:43.395324Z",
          "iopub.status.busy": "2022-06-02T18:15:43.394541Z",
          "iopub.status.idle": "2022-06-02T18:15:43.404898Z",
          "shell.execute_reply": "2022-06-02T18:15:43.403691Z"
        },
        "papermill": {
          "duration": 0.020513,
          "end_time": "2022-06-02T18:15:43.407002",
          "exception": false,
          "start_time": "2022-06-02T18:15:43.386489",
          "status": "completed"
        },
        "tags": [],
        "id": "4edb138e"
      },
      "outputs": [],
      "source": [
        "img_path = pd.Series(img_path)\n",
        "classes = pd.Series(classes)\n",
        "\n",
        "img_data = pd.DataFrame({'Path':img_path.values, 'Label':classes.values})\n"
      ]
    },
    {
      "cell_type": "code",
      "execution_count": null,
      "id": "5ac2696c",
      "metadata": {
        "execution": {
          "iopub.execute_input": "2022-06-02T18:15:43.422835Z",
          "iopub.status.busy": "2022-06-02T18:15:43.422498Z",
          "iopub.status.idle": "2022-06-02T18:15:43.441995Z",
          "shell.execute_reply": "2022-06-02T18:15:43.440735Z"
        },
        "papermill": {
          "duration": 0.03077,
          "end_time": "2022-06-02T18:15:43.445091",
          "exception": false,
          "start_time": "2022-06-02T18:15:43.414321",
          "status": "completed"
        },
        "tags": [],
        "colab": {
          "base_uri": "https://localhost:8080/",
          "height": 206
        },
        "id": "5ac2696c",
        "outputId": "88e267bd-54f9-452c-a48a-f1cb1ecf393b"
      },
      "outputs": [
        {
          "output_type": "execute_result",
          "data": {
            "text/plain": [
              "                                                Path    Label\n",
              "0  /content/Grapevine_Leaves_Image_Dataset/Buzgul...  Buzgulu\n",
              "1  /content/Grapevine_Leaves_Image_Dataset/Buzgul...  Buzgulu\n",
              "2  /content/Grapevine_Leaves_Image_Dataset/Buzgul...  Buzgulu\n",
              "3  /content/Grapevine_Leaves_Image_Dataset/Buzgul...  Buzgulu\n",
              "4  /content/Grapevine_Leaves_Image_Dataset/Buzgul...  Buzgulu"
            ],
            "text/html": [
              "\n",
              "  <div id=\"df-cbce80d4-4ef1-457a-9fa2-02642ec7e32a\">\n",
              "    <div class=\"colab-df-container\">\n",
              "      <div>\n",
              "<style scoped>\n",
              "    .dataframe tbody tr th:only-of-type {\n",
              "        vertical-align: middle;\n",
              "    }\n",
              "\n",
              "    .dataframe tbody tr th {\n",
              "        vertical-align: top;\n",
              "    }\n",
              "\n",
              "    .dataframe thead th {\n",
              "        text-align: right;\n",
              "    }\n",
              "</style>\n",
              "<table border=\"1\" class=\"dataframe\">\n",
              "  <thead>\n",
              "    <tr style=\"text-align: right;\">\n",
              "      <th></th>\n",
              "      <th>Path</th>\n",
              "      <th>Label</th>\n",
              "    </tr>\n",
              "  </thead>\n",
              "  <tbody>\n",
              "    <tr>\n",
              "      <th>0</th>\n",
              "      <td>/content/Grapevine_Leaves_Image_Dataset/Buzgul...</td>\n",
              "      <td>Buzgulu</td>\n",
              "    </tr>\n",
              "    <tr>\n",
              "      <th>1</th>\n",
              "      <td>/content/Grapevine_Leaves_Image_Dataset/Buzgul...</td>\n",
              "      <td>Buzgulu</td>\n",
              "    </tr>\n",
              "    <tr>\n",
              "      <th>2</th>\n",
              "      <td>/content/Grapevine_Leaves_Image_Dataset/Buzgul...</td>\n",
              "      <td>Buzgulu</td>\n",
              "    </tr>\n",
              "    <tr>\n",
              "      <th>3</th>\n",
              "      <td>/content/Grapevine_Leaves_Image_Dataset/Buzgul...</td>\n",
              "      <td>Buzgulu</td>\n",
              "    </tr>\n",
              "    <tr>\n",
              "      <th>4</th>\n",
              "      <td>/content/Grapevine_Leaves_Image_Dataset/Buzgul...</td>\n",
              "      <td>Buzgulu</td>\n",
              "    </tr>\n",
              "  </tbody>\n",
              "</table>\n",
              "</div>\n",
              "      <button class=\"colab-df-convert\" onclick=\"convertToInteractive('df-cbce80d4-4ef1-457a-9fa2-02642ec7e32a')\"\n",
              "              title=\"Convert this dataframe to an interactive table.\"\n",
              "              style=\"display:none;\">\n",
              "        \n",
              "  <svg xmlns=\"http://www.w3.org/2000/svg\" height=\"24px\"viewBox=\"0 0 24 24\"\n",
              "       width=\"24px\">\n",
              "    <path d=\"M0 0h24v24H0V0z\" fill=\"none\"/>\n",
              "    <path d=\"M18.56 5.44l.94 2.06.94-2.06 2.06-.94-2.06-.94-.94-2.06-.94 2.06-2.06.94zm-11 1L8.5 8.5l.94-2.06 2.06-.94-2.06-.94L8.5 2.5l-.94 2.06-2.06.94zm10 10l.94 2.06.94-2.06 2.06-.94-2.06-.94-.94-2.06-.94 2.06-2.06.94z\"/><path d=\"M17.41 7.96l-1.37-1.37c-.4-.4-.92-.59-1.43-.59-.52 0-1.04.2-1.43.59L10.3 9.45l-7.72 7.72c-.78.78-.78 2.05 0 2.83L4 21.41c.39.39.9.59 1.41.59.51 0 1.02-.2 1.41-.59l7.78-7.78 2.81-2.81c.8-.78.8-2.07 0-2.86zM5.41 20L4 18.59l7.72-7.72 1.47 1.35L5.41 20z\"/>\n",
              "  </svg>\n",
              "      </button>\n",
              "      \n",
              "  <style>\n",
              "    .colab-df-container {\n",
              "      display:flex;\n",
              "      flex-wrap:wrap;\n",
              "      gap: 12px;\n",
              "    }\n",
              "\n",
              "    .colab-df-convert {\n",
              "      background-color: #E8F0FE;\n",
              "      border: none;\n",
              "      border-radius: 50%;\n",
              "      cursor: pointer;\n",
              "      display: none;\n",
              "      fill: #1967D2;\n",
              "      height: 32px;\n",
              "      padding: 0 0 0 0;\n",
              "      width: 32px;\n",
              "    }\n",
              "\n",
              "    .colab-df-convert:hover {\n",
              "      background-color: #E2EBFA;\n",
              "      box-shadow: 0px 1px 2px rgba(60, 64, 67, 0.3), 0px 1px 3px 1px rgba(60, 64, 67, 0.15);\n",
              "      fill: #174EA6;\n",
              "    }\n",
              "\n",
              "    [theme=dark] .colab-df-convert {\n",
              "      background-color: #3B4455;\n",
              "      fill: #D2E3FC;\n",
              "    }\n",
              "\n",
              "    [theme=dark] .colab-df-convert:hover {\n",
              "      background-color: #434B5C;\n",
              "      box-shadow: 0px 1px 3px 1px rgba(0, 0, 0, 0.15);\n",
              "      filter: drop-shadow(0px 1px 2px rgba(0, 0, 0, 0.3));\n",
              "      fill: #FFFFFF;\n",
              "    }\n",
              "  </style>\n",
              "\n",
              "      <script>\n",
              "        const buttonEl =\n",
              "          document.querySelector('#df-cbce80d4-4ef1-457a-9fa2-02642ec7e32a button.colab-df-convert');\n",
              "        buttonEl.style.display =\n",
              "          google.colab.kernel.accessAllowed ? 'block' : 'none';\n",
              "\n",
              "        async function convertToInteractive(key) {\n",
              "          const element = document.querySelector('#df-cbce80d4-4ef1-457a-9fa2-02642ec7e32a');\n",
              "          const dataTable =\n",
              "            await google.colab.kernel.invokeFunction('convertToInteractive',\n",
              "                                                     [key], {});\n",
              "          if (!dataTable) return;\n",
              "\n",
              "          const docLinkHtml = 'Like what you see? Visit the ' +\n",
              "            '<a target=\"_blank\" href=https://colab.research.google.com/notebooks/data_table.ipynb>data table notebook</a>'\n",
              "            + ' to learn more about interactive tables.';\n",
              "          element.innerHTML = '';\n",
              "          dataTable['output_type'] = 'display_data';\n",
              "          await google.colab.output.renderOutput(dataTable, element);\n",
              "          const docLink = document.createElement('div');\n",
              "          docLink.innerHTML = docLinkHtml;\n",
              "          element.appendChild(docLink);\n",
              "        }\n",
              "      </script>\n",
              "    </div>\n",
              "  </div>\n",
              "  "
            ]
          },
          "metadata": {},
          "execution_count": 7
        }
      ],
      "source": [
        "img_data.head()"
      ]
    },
    {
      "cell_type": "code",
      "execution_count": null,
      "id": "d5619346",
      "metadata": {
        "execution": {
          "iopub.execute_input": "2022-06-02T18:15:43.462040Z",
          "iopub.status.busy": "2022-06-02T18:15:43.461736Z",
          "iopub.status.idle": "2022-06-02T18:15:43.487246Z",
          "shell.execute_reply": "2022-06-02T18:15:43.485938Z"
        },
        "papermill": {
          "duration": 0.037964,
          "end_time": "2022-06-02T18:15:43.490905",
          "exception": false,
          "start_time": "2022-06-02T18:15:43.452941",
          "status": "completed"
        },
        "tags": [],
        "colab": {
          "base_uri": "https://localhost:8080/",
          "height": 424
        },
        "id": "d5619346",
        "outputId": "0daa4494-f333-4654-c877-568bba0c7718"
      },
      "outputs": [
        {
          "output_type": "execute_result",
          "data": {
            "text/plain": [
              "                                                  Path      Label\n",
              "361  /content/Grapevine_Leaves_Image_Dataset/Ala_Id...  Ala_Idris\n",
              "73   /content/Grapevine_Leaves_Image_Dataset/Dimnit...     Dimnit\n",
              "374  /content/Grapevine_Leaves_Image_Dataset/Nazli/...      Nazli\n",
              "155  /content/Grapevine_Leaves_Image_Dataset/Nazli/...      Nazli\n",
              "104  /content/Grapevine_Leaves_Image_Dataset/Ala_Id...  Ala_Idris\n",
              "..                                                 ...        ...\n",
              "220  /content/Grapevine_Leaves_Image_Dataset/Dimnit...     Dimnit\n",
              "176  /content/Grapevine_Leaves_Image_Dataset/Dimnit...     Dimnit\n",
              "320  /content/Grapevine_Leaves_Image_Dataset/Ala_Id...  Ala_Idris\n",
              "153  /content/Grapevine_Leaves_Image_Dataset/Buzgul...    Buzgulu\n",
              "231  /content/Grapevine_Leaves_Image_Dataset/Ala_Id...  Ala_Idris\n",
              "\n",
              "[125 rows x 2 columns]"
            ],
            "text/html": [
              "\n",
              "  <div id=\"df-35bab89b-345a-48f3-8e79-723821192cd7\">\n",
              "    <div class=\"colab-df-container\">\n",
              "      <div>\n",
              "<style scoped>\n",
              "    .dataframe tbody tr th:only-of-type {\n",
              "        vertical-align: middle;\n",
              "    }\n",
              "\n",
              "    .dataframe tbody tr th {\n",
              "        vertical-align: top;\n",
              "    }\n",
              "\n",
              "    .dataframe thead th {\n",
              "        text-align: right;\n",
              "    }\n",
              "</style>\n",
              "<table border=\"1\" class=\"dataframe\">\n",
              "  <thead>\n",
              "    <tr style=\"text-align: right;\">\n",
              "      <th></th>\n",
              "      <th>Path</th>\n",
              "      <th>Label</th>\n",
              "    </tr>\n",
              "  </thead>\n",
              "  <tbody>\n",
              "    <tr>\n",
              "      <th>361</th>\n",
              "      <td>/content/Grapevine_Leaves_Image_Dataset/Ala_Id...</td>\n",
              "      <td>Ala_Idris</td>\n",
              "    </tr>\n",
              "    <tr>\n",
              "      <th>73</th>\n",
              "      <td>/content/Grapevine_Leaves_Image_Dataset/Dimnit...</td>\n",
              "      <td>Dimnit</td>\n",
              "    </tr>\n",
              "    <tr>\n",
              "      <th>374</th>\n",
              "      <td>/content/Grapevine_Leaves_Image_Dataset/Nazli/...</td>\n",
              "      <td>Nazli</td>\n",
              "    </tr>\n",
              "    <tr>\n",
              "      <th>155</th>\n",
              "      <td>/content/Grapevine_Leaves_Image_Dataset/Nazli/...</td>\n",
              "      <td>Nazli</td>\n",
              "    </tr>\n",
              "    <tr>\n",
              "      <th>104</th>\n",
              "      <td>/content/Grapevine_Leaves_Image_Dataset/Ala_Id...</td>\n",
              "      <td>Ala_Idris</td>\n",
              "    </tr>\n",
              "    <tr>\n",
              "      <th>...</th>\n",
              "      <td>...</td>\n",
              "      <td>...</td>\n",
              "    </tr>\n",
              "    <tr>\n",
              "      <th>220</th>\n",
              "      <td>/content/Grapevine_Leaves_Image_Dataset/Dimnit...</td>\n",
              "      <td>Dimnit</td>\n",
              "    </tr>\n",
              "    <tr>\n",
              "      <th>176</th>\n",
              "      <td>/content/Grapevine_Leaves_Image_Dataset/Dimnit...</td>\n",
              "      <td>Dimnit</td>\n",
              "    </tr>\n",
              "    <tr>\n",
              "      <th>320</th>\n",
              "      <td>/content/Grapevine_Leaves_Image_Dataset/Ala_Id...</td>\n",
              "      <td>Ala_Idris</td>\n",
              "    </tr>\n",
              "    <tr>\n",
              "      <th>153</th>\n",
              "      <td>/content/Grapevine_Leaves_Image_Dataset/Buzgul...</td>\n",
              "      <td>Buzgulu</td>\n",
              "    </tr>\n",
              "    <tr>\n",
              "      <th>231</th>\n",
              "      <td>/content/Grapevine_Leaves_Image_Dataset/Ala_Id...</td>\n",
              "      <td>Ala_Idris</td>\n",
              "    </tr>\n",
              "  </tbody>\n",
              "</table>\n",
              "<p>125 rows × 2 columns</p>\n",
              "</div>\n",
              "      <button class=\"colab-df-convert\" onclick=\"convertToInteractive('df-35bab89b-345a-48f3-8e79-723821192cd7')\"\n",
              "              title=\"Convert this dataframe to an interactive table.\"\n",
              "              style=\"display:none;\">\n",
              "        \n",
              "  <svg xmlns=\"http://www.w3.org/2000/svg\" height=\"24px\"viewBox=\"0 0 24 24\"\n",
              "       width=\"24px\">\n",
              "    <path d=\"M0 0h24v24H0V0z\" fill=\"none\"/>\n",
              "    <path d=\"M18.56 5.44l.94 2.06.94-2.06 2.06-.94-2.06-.94-.94-2.06-.94 2.06-2.06.94zm-11 1L8.5 8.5l.94-2.06 2.06-.94-2.06-.94L8.5 2.5l-.94 2.06-2.06.94zm10 10l.94 2.06.94-2.06 2.06-.94-2.06-.94-.94-2.06-.94 2.06-2.06.94z\"/><path d=\"M17.41 7.96l-1.37-1.37c-.4-.4-.92-.59-1.43-.59-.52 0-1.04.2-1.43.59L10.3 9.45l-7.72 7.72c-.78.78-.78 2.05 0 2.83L4 21.41c.39.39.9.59 1.41.59.51 0 1.02-.2 1.41-.59l7.78-7.78 2.81-2.81c.8-.78.8-2.07 0-2.86zM5.41 20L4 18.59l7.72-7.72 1.47 1.35L5.41 20z\"/>\n",
              "  </svg>\n",
              "      </button>\n",
              "      \n",
              "  <style>\n",
              "    .colab-df-container {\n",
              "      display:flex;\n",
              "      flex-wrap:wrap;\n",
              "      gap: 12px;\n",
              "    }\n",
              "\n",
              "    .colab-df-convert {\n",
              "      background-color: #E8F0FE;\n",
              "      border: none;\n",
              "      border-radius: 50%;\n",
              "      cursor: pointer;\n",
              "      display: none;\n",
              "      fill: #1967D2;\n",
              "      height: 32px;\n",
              "      padding: 0 0 0 0;\n",
              "      width: 32px;\n",
              "    }\n",
              "\n",
              "    .colab-df-convert:hover {\n",
              "      background-color: #E2EBFA;\n",
              "      box-shadow: 0px 1px 2px rgba(60, 64, 67, 0.3), 0px 1px 3px 1px rgba(60, 64, 67, 0.15);\n",
              "      fill: #174EA6;\n",
              "    }\n",
              "\n",
              "    [theme=dark] .colab-df-convert {\n",
              "      background-color: #3B4455;\n",
              "      fill: #D2E3FC;\n",
              "    }\n",
              "\n",
              "    [theme=dark] .colab-df-convert:hover {\n",
              "      background-color: #434B5C;\n",
              "      box-shadow: 0px 1px 3px 1px rgba(0, 0, 0, 0.15);\n",
              "      filter: drop-shadow(0px 1px 2px rgba(0, 0, 0, 0.3));\n",
              "      fill: #FFFFFF;\n",
              "    }\n",
              "  </style>\n",
              "\n",
              "      <script>\n",
              "        const buttonEl =\n",
              "          document.querySelector('#df-35bab89b-345a-48f3-8e79-723821192cd7 button.colab-df-convert');\n",
              "        buttonEl.style.display =\n",
              "          google.colab.kernel.accessAllowed ? 'block' : 'none';\n",
              "\n",
              "        async function convertToInteractive(key) {\n",
              "          const element = document.querySelector('#df-35bab89b-345a-48f3-8e79-723821192cd7');\n",
              "          const dataTable =\n",
              "            await google.colab.kernel.invokeFunction('convertToInteractive',\n",
              "                                                     [key], {});\n",
              "          if (!dataTable) return;\n",
              "\n",
              "          const docLinkHtml = 'Like what you see? Visit the ' +\n",
              "            '<a target=\"_blank\" href=https://colab.research.google.com/notebooks/data_table.ipynb>data table notebook</a>'\n",
              "            + ' to learn more about interactive tables.';\n",
              "          element.innerHTML = '';\n",
              "          dataTable['output_type'] = 'display_data';\n",
              "          await google.colab.output.renderOutput(dataTable, element);\n",
              "          const docLink = document.createElement('div');\n",
              "          docLink.innerHTML = docLinkHtml;\n",
              "          element.appendChild(docLink);\n",
              "        }\n",
              "      </script>\n",
              "    </div>\n",
              "  </div>\n",
              "  "
            ]
          },
          "metadata": {},
          "execution_count": 8
        }
      ],
      "source": [
        "img_data = img_data.sample(frac=1, axis=0).reset_index(drop=True)\n",
        "\n",
        "\n",
        "X_train, X_val, y_train, y_val = train_test_split(img_data[['Path', 'Label']], img_data[['Label']], test_size=0.25, random_state=42)\n",
        "X_val"
      ]
    },
    {
      "cell_type": "markdown",
      "id": "9e5f447d",
      "metadata": {
        "papermill": {
          "duration": 0.007663,
          "end_time": "2022-06-02T18:15:43.506297",
          "exception": false,
          "start_time": "2022-06-02T18:15:43.498634",
          "status": "completed"
        },
        "tags": [],
        "id": "9e5f447d"
      },
      "source": [
        "# AUGMENTATORS"
      ]
    },
    {
      "cell_type": "code",
      "execution_count": null,
      "id": "3780df6c",
      "metadata": {
        "execution": {
          "iopub.execute_input": "2022-06-02T18:15:43.523576Z",
          "iopub.status.busy": "2022-06-02T18:15:43.522702Z",
          "iopub.status.idle": "2022-06-02T18:15:43.528655Z",
          "shell.execute_reply": "2022-06-02T18:15:43.527607Z"
        },
        "papermill": {
          "duration": 0.016992,
          "end_time": "2022-06-02T18:15:43.530915",
          "exception": false,
          "start_time": "2022-06-02T18:15:43.513923",
          "status": "completed"
        },
        "tags": [],
        "id": "3780df6c"
      },
      "outputs": [],
      "source": [
        "train_datagen = ImageDataGenerator(\n",
        "        rescale=1 / 255.0,\n",
        "        rotation_range=20,\n",
        "        zoom_range=0.05,\n",
        "        width_shift_range=0.05,\n",
        "        height_shift_range=0.05,\n",
        "        shear_range=0.05,\n",
        "        horizontal_flip=True,\n",
        "        fill_mode=\"nearest\",\n",
        "        )\n",
        "\n",
        "val_datagen = ImageDataGenerator(rescale=1 / 255.0)\n"
      ]
    },
    {
      "cell_type": "code",
      "execution_count": null,
      "id": "11b04458",
      "metadata": {
        "execution": {
          "iopub.execute_input": "2022-06-02T18:15:43.547725Z",
          "iopub.status.busy": "2022-06-02T18:15:43.547353Z",
          "iopub.status.idle": "2022-06-02T18:15:43.572011Z",
          "shell.execute_reply": "2022-06-02T18:15:43.570311Z"
        },
        "papermill": {
          "duration": 0.035966,
          "end_time": "2022-06-02T18:15:43.574482",
          "exception": false,
          "start_time": "2022-06-02T18:15:43.538516",
          "status": "completed"
        },
        "tags": [],
        "colab": {
          "base_uri": "https://localhost:8080/"
        },
        "id": "11b04458",
        "outputId": "0002e2ad-9cb3-4006-9954-fbd2687ac57e"
      },
      "outputs": [
        {
          "output_type": "stream",
          "name": "stdout",
          "text": [
            "Found 375 validated image filenames belonging to 5 classes.\n",
            "Found 125 validated image filenames belonging to 5 classes.\n"
          ]
        }
      ],
      "source": [
        "batch_size = 32\n",
        "\n",
        "train_generator = train_datagen.flow_from_dataframe(\n",
        "    dataframe=X_train,\n",
        "    x_col=\"Path\",\n",
        "    y_col=\"Label\",\n",
        "    target_size=(300, 300),\n",
        "    batch_size=batch_size,\n",
        "    class_mode=\"categorical\",\n",
        "    subset='training',\n",
        "    shuffle=True,\n",
        "    seed=42\n",
        ")\n",
        "\n",
        "validation_generator = val_datagen.flow_from_dataframe(\n",
        "    dataframe=X_val,\n",
        "    x_col=\"Path\",\n",
        "    y_col=\"Label\",\n",
        "    target_size=(300, 300),\n",
        "    batch_size=8,\n",
        "    shuffle=False,\n",
        ")"
      ]
    },
    {
      "cell_type": "markdown",
      "id": "78c843c3",
      "metadata": {
        "papermill": {
          "duration": 0.007616,
          "end_time": "2022-06-02T18:15:43.590253",
          "exception": false,
          "start_time": "2022-06-02T18:15:43.582637",
          "status": "completed"
        },
        "tags": [],
        "id": "78c843c3"
      },
      "source": [
        "# CUSTOM MODEL"
      ]
    },
    {
      "cell_type": "code",
      "execution_count": null,
      "id": "d1cdadc5",
      "metadata": {
        "execution": {
          "iopub.execute_input": "2022-06-02T18:15:43.607514Z",
          "iopub.status.busy": "2022-06-02T18:15:43.606861Z",
          "iopub.status.idle": "2022-06-02T18:15:47.129372Z",
          "shell.execute_reply": "2022-06-02T18:15:47.128167Z"
        },
        "papermill": {
          "duration": 3.534723,
          "end_time": "2022-06-02T18:15:47.132614",
          "exception": false,
          "start_time": "2022-06-02T18:15:43.597891",
          "status": "completed"
        },
        "tags": [],
        "colab": {
          "base_uri": "https://localhost:8080/"
        },
        "id": "d1cdadc5",
        "outputId": "4fbfe784-2f6c-44c5-a519-27f472f8b2fa"
      },
      "outputs": [
        {
          "output_type": "stream",
          "name": "stdout",
          "text": [
            "Model: \"sequential\"\n",
            "_________________________________________________________________\n",
            " Layer (type)                Output Shape              Param #   \n",
            "=================================================================\n",
            " conv2d (Conv2D)             (None, 296, 296, 32)      2432      \n",
            "                                                                 \n",
            " max_pooling2d (MaxPooling2D  (None, 148, 148, 32)     0         \n",
            " )                                                               \n",
            "                                                                 \n",
            " conv2d_1 (Conv2D)           (None, 144, 144, 64)      51264     \n",
            "                                                                 \n",
            " max_pooling2d_1 (MaxPooling  (None, 72, 72, 64)       0         \n",
            " 2D)                                                             \n",
            "                                                                 \n",
            " conv2d_2 (Conv2D)           (None, 68, 68, 128)       204928    \n",
            "                                                                 \n",
            " max_pooling2d_2 (MaxPooling  (None, 34, 34, 128)      0         \n",
            " 2D)                                                             \n",
            "                                                                 \n",
            " conv2d_3 (Conv2D)           (None, 30, 30, 256)       819456    \n",
            "                                                                 \n",
            " max_pooling2d_3 (MaxPooling  (None, 15, 15, 256)      0         \n",
            " 2D)                                                             \n",
            "                                                                 \n",
            " global_average_pooling2d (G  (None, 256)              0         \n",
            " lobalAveragePooling2D)                                          \n",
            "                                                                 \n",
            " flatten (Flatten)           (None, 256)               0         \n",
            "                                                                 \n",
            " dense (Dense)               (None, 128)               32896     \n",
            "                                                                 \n",
            " dropout (Dropout)           (None, 128)               0         \n",
            "                                                                 \n",
            " dense_1 (Dense)             (None, 256)               33024     \n",
            "                                                                 \n",
            " dropout_1 (Dropout)         (None, 256)               0         \n",
            "                                                                 \n",
            " dense_2 (Dense)             (None, 64)                16448     \n",
            "                                                                 \n",
            " dense_3 (Dense)             (None, 5)                 325       \n",
            "                                                                 \n",
            "=================================================================\n",
            "Total params: 1,160,773\n",
            "Trainable params: 1,160,773\n",
            "Non-trainable params: 0\n",
            "_________________________________________________________________\n"
          ]
        }
      ],
      "source": [
        "cnn_model = Sequential()\n",
        "\n",
        "cnn_model.add(Conv2D(32,kernel_size=5,activation='relu',input_shape=(300, 300, 3)))\n",
        "cnn_model.add(MaxPooling2D(pool_size=(2, 2)))\n",
        "\n",
        "cnn_model.add(Conv2D(64,kernel_size=5, activation='relu'))\n",
        "cnn_model.add(MaxPooling2D(pool_size=(2, 2)))\n",
        "\n",
        "cnn_model.add(Conv2D(128,kernel_size=5, activation='relu'))\n",
        "cnn_model.add(MaxPooling2D(pool_size=(2, 2)))\n",
        "\n",
        "cnn_model.add(Conv2D(256,kernel_size=5, activation='relu'))\n",
        "cnn_model.add(MaxPooling2D(pool_size=(2, 2)))\n",
        "cnn_model.add(GlobalAveragePooling2D())\n",
        "\n",
        "cnn_model.add(Flatten())\n",
        "\n",
        "cnn_model.add(Dense(128, activation='relu'))\n",
        "cnn_model.add(Dropout(0.2))\n",
        "cnn_model.add(Dense(256, activation='relu'))\n",
        "cnn_model.add(Dropout(0.2))\n",
        "cnn_model.add(Dense(64, activation='relu'))\n",
        "\n",
        "cnn_model.add(Dense(5, activation='softmax'))\n",
        "\n",
        "\n",
        "\n",
        "cnn_model.compile(loss=\"categorical_crossentropy\",optimizer='adam', metrics=['accuracy'])\n",
        "\n",
        "cnn_model.summary()\n",
        "\n"
      ]
    },
    {
      "cell_type": "code",
      "execution_count": null,
      "id": "8e77d23d",
      "metadata": {
        "execution": {
          "iopub.execute_input": "2022-06-02T18:15:47.164704Z",
          "iopub.status.busy": "2022-06-02T18:15:47.164123Z",
          "iopub.status.idle": "2022-06-02T18:19:34.636891Z",
          "shell.execute_reply": "2022-06-02T18:19:34.635816Z"
        },
        "papermill": {
          "duration": 227.491463,
          "end_time": "2022-06-02T18:19:34.639420",
          "exception": false,
          "start_time": "2022-06-02T18:15:47.147957",
          "status": "completed"
        },
        "tags": [],
        "colab": {
          "base_uri": "https://localhost:8080/"
        },
        "id": "8e77d23d",
        "outputId": "9edd3b5c-aa9a-45d6-e21a-c192a6ec812b"
      },
      "outputs": [
        {
          "output_type": "stream",
          "name": "stdout",
          "text": [
            "Epoch 1/10\n",
            "8/8 [==============================] - 137s 17s/step - loss: 1.6173 - accuracy: 0.1781 - val_loss: 1.6104 - val_accuracy: 0.1760\n",
            "Epoch 2/10\n",
            "8/8 [==============================] - 131s 16s/step - loss: 1.6109 - accuracy: 0.2105 - val_loss: 1.6244 - val_accuracy: 0.1760\n",
            "Epoch 3/10\n",
            "8/8 [==============================] - 132s 16s/step - loss: 1.6089 - accuracy: 0.2146 - val_loss: 1.6208 - val_accuracy: 0.1760\n",
            "Epoch 4/10\n",
            "8/8 [==============================] - 130s 16s/step - loss: 1.6041 - accuracy: 0.1943 - val_loss: 1.6479 - val_accuracy: 0.1760\n",
            "Epoch 5/10\n",
            "8/8 [==============================] - 129s 16s/step - loss: 1.6113 - accuracy: 0.2105 - val_loss: 1.6210 - val_accuracy: 0.1840\n",
            "Epoch 6/10\n",
            "8/8 [==============================] - 128s 16s/step - loss: 1.6106 - accuracy: 0.2024 - val_loss: 1.6121 - val_accuracy: 0.1760\n",
            "Epoch 7/10\n",
            "8/8 [==============================] - 132s 16s/step - loss: 1.6078 - accuracy: 0.2470 - val_loss: 1.6134 - val_accuracy: 0.1760\n",
            "Epoch 8/10\n",
            "8/8 [==============================] - 132s 17s/step - loss: 1.6113 - accuracy: 0.2031 - val_loss: 1.6136 - val_accuracy: 0.1760\n",
            "Epoch 9/10\n",
            "8/8 [==============================] - 130s 16s/step - loss: 1.6094 - accuracy: 0.2065 - val_loss: 1.6130 - val_accuracy: 0.1760\n",
            "Epoch 10/10\n",
            "8/8 [==============================] - 130s 16s/step - loss: 1.6083 - accuracy: 0.2024 - val_loss: 1.6135 - val_accuracy: 0.1760\n"
          ]
        }
      ],
      "source": [
        "cnn_history=cnn_model.fit(train_generator,\n",
        "        steps_per_epoch = 8,\n",
        "        validation_data= validation_generator,\n",
        "        epochs=10)"
      ]
    },
    {
      "cell_type": "markdown",
      "id": "a2c8a4ba",
      "metadata": {
        "papermill": {
          "duration": 0.025469,
          "end_time": "2022-06-02T18:19:34.691272",
          "exception": false,
          "start_time": "2022-06-02T18:19:34.665803",
          "status": "completed"
        },
        "tags": [],
        "id": "a2c8a4ba"
      },
      "source": [
        "The custom model performs very poorly and achieves only an accuracy of around 0.2 "
      ]
    },
    {
      "cell_type": "code",
      "source": [
        "import matplotlib.pyplot as plt\n",
        "acc = cnn_history.history['accuracy']\n",
        "val_acc = cnn_history.history['val_accuracy']\n",
        "\n",
        "loss = cnn_history.history['loss']\n",
        "val_loss = cnn_history.history['val_loss']\n",
        "\n",
        "epochs = range(1, len(acc) + 1)\n",
        "\n",
        "plt.plot(epochs, acc, 'r', label='Training acc')\n",
        "plt.plot(epochs, val_acc, 'b', label='Validation acc')\n",
        "plt.title('Training and validation accuracy')\n",
        "plt.legend()\n",
        "\n",
        "plt.figure()\n",
        "\n",
        "plt.plot(epochs, loss, 'r', label='Training loss')\n",
        "plt.plot(epochs, val_loss, 'b', label='Validation loss')\n",
        "plt.title('Training and validation loss')\n",
        "plt.legend()\n",
        "\n",
        "plt.show()"
      ],
      "metadata": {
        "colab": {
          "base_uri": "https://localhost:8080/",
          "height": 545
        },
        "id": "vH8EMa1Fk4aW",
        "outputId": "7d57796f-edee-4fc8-91e1-d25c514260f5"
      },
      "id": "vH8EMa1Fk4aW",
      "execution_count": null,
      "outputs": [
        {
          "output_type": "display_data",
          "data": {
            "text/plain": [
              "<Figure size 432x288 with 1 Axes>"
            ],
            "image/png": "[encoded data removed]"
          },
          "metadata": {
            "needs_background": "light"
          }
        },
        {
          "output_type": "display_data",
          "data": {
            "text/plain": [
              "<Figure size 432x288 with 1 Axes>"
            ],
            "image/png": "[encoded data removed]"
          },
          "metadata": {
            "needs_background": "light"
          }
        }
      ]
    },
    {
      "cell_type": "markdown",
      "id": "40e2f387",
      "metadata": {
        "papermill": {
          "duration": 0.024,
          "end_time": "2022-06-02T18:19:34.740849",
          "exception": false,
          "start_time": "2022-06-02T18:19:34.716849",
          "status": "completed"
        },
        "tags": [],
        "id": "40e2f387"
      },
      "source": [
        "# INCEPTION MODEL"
      ]
    },
    {
      "cell_type": "code",
      "execution_count": null,
      "id": "e3066664",
      "metadata": {
        "execution": {
          "iopub.execute_input": "2022-06-02T18:19:34.792534Z",
          "iopub.status.busy": "2022-06-02T18:19:34.792126Z",
          "iopub.status.idle": "2022-06-02T18:19:38.847241Z",
          "shell.execute_reply": "2022-06-02T18:19:38.844586Z"
        },
        "papermill": {
          "duration": 4.084475,
          "end_time": "2022-06-02T18:19:38.850511",
          "exception": false,
          "start_time": "2022-06-02T18:19:34.766036",
          "status": "completed"
        },
        "tags": [],
        "colab": {
          "base_uri": "https://localhost:8080/"
        },
        "id": "e3066664",
        "outputId": "be97d2d7-47d6-4c75-9e02-85005a760688"
      },
      "outputs": [
        {
          "output_type": "stream",
          "name": "stdout",
          "text": [
            "Downloading data from https://storage.googleapis.com/tensorflow/keras-applications/inception_v3/inception_v3_weights_tf_dim_ordering_tf_kernels_notop.h5\n",
            "87916544/87910968 [==============================] - 1s 0us/step\n",
            "87924736/87910968 [==============================] - 1s 0us/step\n",
            "Model: \"sequential_1\"\n",
            "_________________________________________________________________\n",
            " Layer (type)                Output Shape              Param #   \n",
            "=================================================================\n",
            " inception_v3 (Functional)   (None, 8, 8, 2048)        21802784  \n",
            "                                                                 \n",
            " global_average_pooling2d_1   (None, 2048)             0         \n",
            " (GlobalAveragePooling2D)                                        \n",
            "                                                                 \n",
            " flatten_1 (Flatten)         (None, 2048)              0         \n",
            "                                                                 \n",
            " dropout_2 (Dropout)         (None, 2048)              0         \n",
            "                                                                 \n",
            " dense_4 (Dense)             (None, 128)               262272    \n",
            "                                                                 \n",
            " dropout_3 (Dropout)         (None, 128)               0         \n",
            "                                                                 \n",
            " dense_5 (Dense)             (None, 5)                 645       \n",
            "                                                                 \n",
            "=================================================================\n",
            "Total params: 22,065,701\n",
            "Trainable params: 657,797\n",
            "Non-trainable params: 21,407,904\n",
            "_________________________________________________________________\n"
          ]
        }
      ],
      "source": [
        "inception = InceptionV3(weights='imagenet', include_top=False, input_shape=(300, 300, 3))\n",
        "\n",
        "for layer in inception.layers[:-15]:\n",
        "    layer.trainable = False\n",
        "\n",
        "inception_model = Sequential([\n",
        "        inception,\n",
        "        GlobalAveragePooling2D(),\n",
        "        Flatten(),\n",
        "        Dropout(0.3),\n",
        "        Dense(128, activation=\"relu\"),\n",
        "        Dropout(0.5),\n",
        "        Dense(5, activation='softmax')\n",
        "    ])\n",
        "\n",
        "inception_model.summary()"
      ]
    },
    {
      "cell_type": "code",
      "execution_count": null,
      "id": "fadf94fc",
      "metadata": {
        "execution": {
          "iopub.execute_input": "2022-06-02T18:19:38.905976Z",
          "iopub.status.busy": "2022-06-02T18:19:38.905598Z",
          "iopub.status.idle": "2022-06-02T18:19:38.921468Z",
          "shell.execute_reply": "2022-06-02T18:19:38.920556Z"
        },
        "papermill": {
          "duration": 0.0458,
          "end_time": "2022-06-02T18:19:38.924118",
          "exception": false,
          "start_time": "2022-06-02T18:19:38.878318",
          "status": "completed"
        },
        "tags": [],
        "id": "fadf94fc"
      },
      "outputs": [],
      "source": [
        "inception_model.compile(\n",
        "        optimizer= 'adam',\n",
        "        loss=\"categorical_crossentropy\",\n",
        "        metrics=[\"accuracy\"])"
      ]
    },
    {
      "cell_type": "code",
      "execution_count": null,
      "id": "4979fd5f",
      "metadata": {
        "execution": {
          "iopub.execute_input": "2022-06-02T18:19:38.977851Z",
          "iopub.status.busy": "2022-06-02T18:19:38.977390Z",
          "iopub.status.idle": "2022-06-02T18:23:34.292831Z",
          "shell.execute_reply": "2022-06-02T18:23:34.291731Z"
        },
        "papermill": {
          "duration": 235.344899,
          "end_time": "2022-06-02T18:23:34.295626",
          "exception": false,
          "start_time": "2022-06-02T18:19:38.950727",
          "status": "completed"
        },
        "tags": [],
        "colab": {
          "base_uri": "https://localhost:8080/"
        },
        "id": "4979fd5f",
        "outputId": "6d02b1a5-0c1a-4ca2-a256-20e77e42551d"
      },
      "outputs": [
        {
          "output_type": "stream",
          "name": "stdout",
          "text": [
            "Epoch 1/10\n",
            "8/8 [==============================] - 71s 8s/step - loss: 1.6691 - accuracy: 0.2955 - val_loss: 1.5396 - val_accuracy: 0.3125\n",
            "Epoch 2/10\n",
            "8/8 [==============================] - 86s 11s/step - loss: 1.2600 - accuracy: 0.4737 - val_loss: 1.4604 - val_accuracy: 0.3125\n",
            "Epoch 3/10\n",
            "8/8 [==============================] - 101s 12s/step - loss: 1.0394 - accuracy: 0.5911 - val_loss: 1.4169 - val_accuracy: 0.4375\n",
            "Epoch 4/10\n",
            "8/8 [==============================] - 72s 9s/step - loss: 0.8949 - accuracy: 0.6073 - val_loss: 1.4944 - val_accuracy: 0.4375\n",
            "Epoch 5/10\n",
            "8/8 [==============================] - 89s 11s/step - loss: 0.8733 - accuracy: 0.6445 - val_loss: 1.2845 - val_accuracy: 0.6875\n",
            "Epoch 6/10\n",
            "8/8 [==============================] - 90s 11s/step - loss: 0.7571 - accuracy: 0.7206 - val_loss: 1.2926 - val_accuracy: 0.6250\n",
            "Epoch 7/10\n",
            "8/8 [==============================] - 77s 9s/step - loss: 0.6510 - accuracy: 0.8057 - val_loss: 1.2157 - val_accuracy: 0.7500\n",
            "Epoch 8/10\n",
            "8/8 [==============================] - 62s 8s/step - loss: 0.6599 - accuracy: 0.7368 - val_loss: 1.2825 - val_accuracy: 0.6875\n",
            "Epoch 9/10\n",
            "8/8 [==============================] - 65s 8s/step - loss: 0.5679 - accuracy: 0.7895 - val_loss: 1.3890 - val_accuracy: 0.6250\n",
            "Epoch 10/10\n",
            "8/8 [==============================] - 61s 8s/step - loss: 0.5247 - accuracy: 0.8057 - val_loss: 1.1684 - val_accuracy: 0.7500\n"
          ]
        }
      ],
      "source": [
        "inception_history = inception_model.fit(train_generator, \n",
        "                    steps_per_epoch = 8, \n",
        "                    validation_data = validation_generator,\n",
        "                    validation_steps = 2,\n",
        "                    epochs = 10)"
      ]
    },
    {
      "cell_type": "code",
      "source": [
        "acc = inception_history.history['accuracy']\n",
        "val_acc = inception_history.history['val_accuracy']\n",
        "loss = inception_history.history['loss']\n",
        "val_loss = inception_history.history['val_loss']\n",
        "\n",
        "epochs = range(1, len(acc) + 1)\n",
        "\n",
        "plt.plot(epochs, acc, 'r', label='Training acc')\n",
        "plt.plot(epochs, val_acc, 'b', label='Validation acc')\n",
        "plt.title('Training and validation accuracy')\n",
        "plt.legend()\n",
        "\n",
        "plt.figure()\n",
        "\n",
        "plt.plot(epochs, loss, 'r', label='Training loss')\n",
        "plt.plot(epochs, val_loss, 'b', label='Validation loss')\n",
        "plt.title('Training and validation loss')\n",
        "plt.legend()\n",
        "\n",
        "plt.show()"
      ],
      "metadata": {
        "colab": {
          "base_uri": "https://localhost:8080/",
          "height": 545
        },
        "id": "BKeBa03Ylti-",
        "outputId": "766251da-67a6-4202-a2cc-c23b80c0ca59"
      },
      "id": "BKeBa03Ylti-",
      "execution_count": null,
      "outputs": [
        {
          "output_type": "display_data",
          "data": {
            "text/plain": [
              "<Figure size 432x288 with 1 Axes>"
            ],
            "image/png": "[encoded data removed]"
          },
          "metadata": {
            "needs_background": "light"
          }
        },
        {
          "output_type": "display_data",
          "data": {
            "text/plain": [
              "<Figure size 432x288 with 1 Axes>"
            ],
            "image/png": "[encoded data removed]"
          },
          "metadata": {
            "needs_background": "light"
          }
        }
      ]
    },
    {
      "cell_type": "markdown",
      "id": "3b180a8a",
      "metadata": {
        "papermill": {
          "duration": 0.04627,
          "end_time": "2022-06-02T18:23:34.388575",
          "exception": false,
          "start_time": "2022-06-02T18:23:34.342305",
          "status": "completed"
        },
        "tags": [],
        "id": "3b180a8a"
      },
      "source": [
        "# VGG MODEL"
      ]
    },
    {
      "cell_type": "code",
      "execution_count": null,
      "id": "dcfb4c00",
      "metadata": {
        "execution": {
          "iopub.execute_input": "2022-06-02T18:23:34.481096Z",
          "iopub.status.busy": "2022-06-02T18:23:34.480676Z",
          "iopub.status.idle": "2022-06-02T18:23:37.615245Z",
          "shell.execute_reply": "2022-06-02T18:23:37.614164Z"
        },
        "papermill": {
          "duration": 3.184075,
          "end_time": "2022-06-02T18:23:37.617863",
          "exception": false,
          "start_time": "2022-06-02T18:23:34.433788",
          "status": "completed"
        },
        "tags": [],
        "colab": {
          "base_uri": "https://localhost:8080/"
        },
        "id": "dcfb4c00",
        "outputId": "668788d1-4c30-4bcd-c2cb-1670838e6c55"
      },
      "outputs": [
        {
          "output_type": "stream",
          "name": "stdout",
          "text": [
            "Downloading data from https://storage.googleapis.com/tensorflow/keras-applications/vgg19/vgg19_weights_tf_dim_ordering_tf_kernels_notop.h5\n",
            "80142336/80134624 [==============================] - 1s 0us/step\n",
            "80150528/80134624 [==============================] - 1s 0us/step\n"
          ]
        }
      ],
      "source": [
        "vgg19 = VGG19(include_top = False, input_shape = (300,300,3), weights = 'imagenet')\n",
        "\n",
        "# training of all the convolution is set to false\n",
        "for layer in vgg19.layers:\n",
        "    layer.trainable = False\n",
        "\n",
        "x = GlobalAveragePooling2D()(vgg19.output)\n",
        "predictions = Dense(5, activation='softmax')(x)\n",
        "\n",
        "model_vgg = Model(inputs = vgg19.input, outputs = predictions)"
      ]
    },
    {
      "cell_type": "code",
      "execution_count": null,
      "id": "2c64420b",
      "metadata": {
        "execution": {
          "iopub.execute_input": "2022-06-02T18:23:37.717995Z",
          "iopub.status.busy": "2022-06-02T18:23:37.717527Z",
          "iopub.status.idle": "2022-06-02T18:23:37.729726Z",
          "shell.execute_reply": "2022-06-02T18:23:37.728726Z"
        },
        "papermill": {
          "duration": 0.065734,
          "end_time": "2022-06-02T18:23:37.731917",
          "exception": false,
          "start_time": "2022-06-02T18:23:37.666183",
          "status": "completed"
        },
        "tags": [],
        "id": "2c64420b"
      },
      "outputs": [],
      "source": [
        "model_vgg.compile(loss='categorical_crossentropy', optimizer=\"adam\", metrics=['accuracy'])\n"
      ]
    },
    {
      "cell_type": "code",
      "execution_count": null,
      "id": "411c0629",
      "metadata": {
        "execution": {
          "iopub.execute_input": "2022-06-02T18:23:37.829505Z",
          "iopub.status.busy": "2022-06-02T18:23:37.828317Z",
          "iopub.status.idle": "2022-06-02T18:27:36.806775Z",
          "shell.execute_reply": "2022-06-02T18:27:36.805675Z"
        },
        "papermill": {
          "duration": 239.030452,
          "end_time": "2022-06-02T18:27:36.809634",
          "exception": false,
          "start_time": "2022-06-02T18:23:37.779182",
          "status": "completed"
        },
        "tags": [],
        "colab": {
          "base_uri": "https://localhost:8080/"
        },
        "id": "411c0629",
        "outputId": "f7296991-0b03-4b7c-f39a-8a16408423a1"
      },
      "outputs": [
        {
          "output_type": "stream",
          "name": "stdout",
          "text": [
            "Epoch 1/10\n",
            "8/8 [==============================] - 444s 58s/step - loss: 1.6699 - accuracy: 0.2109 - val_loss: 1.6402 - val_accuracy: 0.1680\n",
            "Epoch 2/10\n",
            "8/8 [==============================] - 441s 57s/step - loss: 1.6077 - accuracy: 0.2031 - val_loss: 1.6231 - val_accuracy: 0.2160\n",
            "Epoch 3/10\n",
            "8/8 [==============================] - 429s 56s/step - loss: 1.5959 - accuracy: 0.2267 - val_loss: 1.6042 - val_accuracy: 0.1840\n",
            "Epoch 4/10\n",
            "8/8 [==============================] - 438s 57s/step - loss: 1.5772 - accuracy: 0.2930 - val_loss: 1.5984 - val_accuracy: 0.2480\n",
            "Epoch 5/10\n",
            "8/8 [==============================] - 427s 56s/step - loss: 1.5667 - accuracy: 0.3279 - val_loss: 1.5882 - val_accuracy: 0.3200\n",
            "Epoch 6/10\n",
            "8/8 [==============================] - 437s 57s/step - loss: 1.5500 - accuracy: 0.3887 - val_loss: 1.5799 - val_accuracy: 0.2720\n",
            "Epoch 7/10\n",
            "8/8 [==============================] - 431s 56s/step - loss: 1.5274 - accuracy: 0.4008 - val_loss: 1.5846 - val_accuracy: 0.3200\n",
            "Epoch 8/10\n",
            "8/8 [==============================] - 430s 56s/step - loss: 1.5321 - accuracy: 0.4372 - val_loss: 1.5542 - val_accuracy: 0.3760\n",
            "Epoch 9/10\n",
            "8/8 [==============================] - 431s 56s/step - loss: 1.5080 - accuracy: 0.4494 - val_loss: 1.5309 - val_accuracy: 0.3440\n",
            "Epoch 10/10\n",
            "8/8 [==============================] - 432s 56s/step - loss: 1.5063 - accuracy: 0.4413 - val_loss: 1.5171 - val_accuracy: 0.4720\n"
          ]
        }
      ],
      "source": [
        "history_vgg = model_vgg.fit(\n",
        "      train_generator,\n",
        "      validation_data=validation_generator,\n",
        "      steps_per_epoch = 8, \n",
        "      epochs=10)"
      ]
    },
    {
      "cell_type": "code",
      "source": [
        "acc = history_vgg.history['accuracy']\n",
        "val_acc = history_vgg.history['val_accuracy']\n",
        "\n",
        "loss = history_vgg.history['loss']\n",
        "val_loss = history_vgg.history['val_loss']\n",
        "\n",
        "epochs = range(1, len(acc) + 1)\n",
        "\n",
        "plt.plot(epochs, acc, 'r', label='Training acc')\n",
        "plt.plot(epochs, val_acc, 'b', label='Validation acc')\n",
        "plt.title('Training and validation accuracy')\n",
        "plt.legend()\n",
        "\n",
        "plt.figure()\n",
        "\n",
        "plt.plot(epochs, loss, 'r', label='Training loss')\n",
        "plt.plot(epochs, val_loss, 'b', label='Validation loss')\n",
        "plt.title('Training and validation loss')\n",
        "plt.legend()\n",
        "\n",
        "plt.show()"
      ],
      "metadata": {
        "colab": {
          "base_uri": "https://localhost:8080/",
          "height": 545
        },
        "id": "C5_0gdw7l9zo",
        "outputId": "2b24b6e0-77ff-4ef4-cf1f-ddc55192d453"
      },
      "id": "C5_0gdw7l9zo",
      "execution_count": null,
      "outputs": [
        {
          "output_type": "display_data",
          "data": {
            "text/plain": [
              "<Figure size 432x288 with 1 Axes>"
            ],
            "image/png": "[encoded data removed]"
          },
          "metadata": {
            "needs_background": "light"
          }
        },
        {
          "output_type": "display_data",
          "data": {
            "text/plain": [
              "<Figure size 432x288 with 1 Axes>"
            ],
            "image/png": "[encoded data removed]"
          },
          "metadata": {
            "needs_background": "light"
          }
        }
      ]
    },
    {
      "cell_type": "markdown",
      "id": "a0685eee",
      "metadata": {
        "papermill": {
          "duration": 0.066243,
          "end_time": "2022-06-02T18:27:37.857555",
          "exception": false,
          "start_time": "2022-06-02T18:27:37.791312",
          "status": "completed"
        },
        "tags": [],
        "id": "a0685eee"
      },
      "source": [
        "The inception model performs very well for both the training and validation set with accuracy >0.9 "
      ]
    }
  ],
  "metadata": {
    "kernelspec": {
      "display_name": "Python 3",
      "language": "python",
      "name": "python3"
    },
    "language_info": {
      "codemirror_mode": {
        "name": "ipython",
        "version": 3
      },
      "file_extension": ".py",
      "mimetype": "text/x-python",
      "name": "python",
      "nbconvert_exporter": "python",
      "pygments_lexer": "ipython3",
      "version": "3.7.12"
    },
    "papermill": {
      "default_parameters": {},
      "duration": 735.088273,
      "end_time": "2022-06-02T18:27:41.061522",
      "environment_variables": {},
      "exception": null,
      "input_path": "__notebook__.ipynb",
      "output_path": "__notebook__.ipynb",
      "parameters": {},
      "start_time": "2022-06-02T18:15:25.973249",
      "version": "2.3.4"
    },
    "colab": {
      "provenance": [],
      "include_colab_link": true
    }
  },
  "nbformat": 4,
  "nbformat_minor": 5
}